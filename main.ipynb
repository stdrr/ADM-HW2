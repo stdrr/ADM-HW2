{
 "cells": [
  {
   "cell_type": "markdown",
   "metadata": {},
   "source": [
    "---\n",
    "# Homework 2 - eCommerce analytics\n",
    "---"
   ]
  },
  {
   "cell_type": "markdown",
   "metadata": {},
   "source": [
    "# Notes before starting"
   ]
  },
  {
   "cell_type": "markdown",
   "metadata": {},
   "source": [
    "We dealt with a huge amount of data from the files `2019-Oct.csv` and `2019-Nov.csv`. These files have a total size equal to 13,4GB. For all the questions, we reduced the amount of RAM required by loading only the needed columns and, since some columns data allows it, we forced some data casting to data types smaller in size. Specifically, for example, we loaded the `user_id` values as `numpy.int32` instead of default `numpy.int64`, since we observed that `user_id` values are of 10<sup>8</sup> order.\n",
    "\n",
    "Moreover, we tried to handle these data applying two different strategies. The first one was execute the fucntions in a AWS EC2 instance configured with the proper quantity of RAM. According to the second one, we implemented some functions chunking the dataset, computing by chunk and then combining the results. We are aware that this implementation adds a lot of overhead, but this way we managed to run these functions on a laptop with only 8GB of RAM. These functions are included in the file `./scripts/our_functions` that we chose to use in this notebook. All the questions marked with a **\\*** were solved with such functions."
   ]
  },
  {
   "cell_type": "markdown",
   "metadata": {},
   "source": [
    "# Setup"
   ]
  },
  {
   "cell_type": "markdown",
   "metadata": {},
   "source": [
    "As previously mentioned, in order to keep the notebook tidy, for each question, we put the functions in the file `./scripts/our_functions.py`."
   ]
  },
  {
   "cell_type": "code",
   "execution_count": 1,
   "metadata": {},
   "outputs": [],
   "source": [
    "import scripts.our_functions as f"
   ]
  },
  {
   "cell_type": "markdown",
   "metadata": {},
   "source": [
    "Specifically, the libraries we used are the following:"
   ]
  },
  {
   "cell_type": "markdown",
   "metadata": {},
   "source": [
    "```python\n",
    "# for data handling and analysis\n",
    "import pandas as pd\n",
    "import numpy as np\n",
    "from matplotlib import pyplot as plt \n",
    "import datetime\n",
    "\n",
    "# utilies for computational performance evaluation and debugging\n",
    "from tqdm import tqdm\n",
    "from threading import Thread\n",
    "from queue import Queue\n",
    "import os, glob\n",
    "```"
   ]
  },
  {
   "cell_type": "markdown",
   "metadata": {},
   "source": [
    "To have an insight into the data handling, we show the routine function to load the needed data for each question: "
   ]
  },
  {
   "cell_type": "markdown",
   "metadata": {},
   "source": [
    "```python\n",
    "def get_needed_iterator(month_files:list, columns:list, chunksize:int=10**6, parse_dates=False):\n",
    "    global DATA_PATH, dtype\n",
    "    iterators = []\n",
    "    date_parser = pd.to_datetime if parse_dates else None\n",
    "    for month in month_files:\n",
    "        iterators.append(pd.read_csv(os.path.join(DATA_PATH, month), usecols=columns, \n",
    "                                     parse_dates=parse_dates, date_parser=date_parser, \n",
    "                                     chunksize=chunksize, dtype=dtype))\n",
    "    return iterators\n",
    "```"
   ]
  },
  {
   "cell_type": "markdown",
   "metadata": {},
   "source": [
    "According to the pandas API, we split the dataset into chunks of 10<sup>6</sup> rows and we obtain an iterator. Using this iterator properly, we get all the data required for each question."
   ]
  },
  {
   "cell_type": "markdown",
   "metadata": {},
   "source": [
    "---\n",
    "# [RQ1]  Which is the rate of complete funnels? *"
   ]
  },
  {
   "cell_type": "markdown",
   "metadata": {},
   "source": [
    "According to the question statement, a complete funnel involves three steps: 1) view, 2) cart and 3) purchase. Because an event of type *cart* implies (and corresponds to) an event of type *view*, we only select the rows related to a *cart* and *purchase* events. Then, regarding to the *purchase* event, we make a distinction between the purchases after a corresponding *cart* event and the one-click purchases, which don't correspond to a *cart* event. Besides the complete funnels, we consider incomplete funnels the routes {1} (orphan views) and the route {1,2} (orphan carts).\n",
    "\n",
    "To be clear, the sets that we consider in order to compute the rate of complete funnels are:\n",
    "\n",
    "$\n",
    "U = \\{\\text{all tuples}\\}\\\\\n",
    "P = \\{\\text{purchase tuples}\\}\\\\\n",
    "C = \\{\\text{cart tuples}\\}\n",
    "$\n",
    "\n",
    "The set $P - (P \\cap C)$ contains only the one-click purchases. So, given the cardinalities\n",
    "\n",
    "$\n",
    "|U| = n_{tuples}\\\\\n",
    "|P| = n_{purchases}\\\\\n",
    "|C| = n_{carts}\\\\\n",
    "|P-(P \\cap C)| = n_{one-click}\n",
    "$\n",
    "\n",
    "we compute the rate of complete funnels without one-click purchases as\n",
    "\n",
    "$\n",
    "r_{\\%}=\\frac{n_{purchases}-n_{one-click}}{n_{tuples}-2\\dot(n_{purchases}-n_{one-click})-[n_{carts}-(n_{purchases}-n_{one-click})]-n_{one-click}} = \\frac{n_{purchases}-n_{one-click}}{n_{tuples}-n_{purchases}-n_{carts}}\n",
    "$\n",
    "\n",
    "Similarly, we compute the rate of complete funnels with one-click purchases."
   ]
  },
  {
   "cell_type": "markdown",
   "metadata": {},
   "source": [
    "We show two results, one that corresponds only to the route {1,2,3} and the other that takes into account also the route {1,3} (one-click purchases)."
   ]
  },
  {
   "cell_type": "code",
   "execution_count": 4,
   "metadata": {},
   "outputs": [
    {
     "name": "stdout",
     "output_type": "stream",
     "text": [
      "There are 4979364 purchases,\n",
      "of which 2784960 one_click purchases (only view-purchase couples).\n",
      "The number of carts is 11866338.\n",
      "\n",
      "\n",
      "Rate of complete funnels without one_click purchases:\t2.36%.\n",
      "\n",
      "Rate of complete funnels with one_click purchases:\t5.35%.\n"
     ]
    }
   ],
   "source": [
    "f.complete_funnels(['event_type', 'user_session', 'product_id'])"
   ]
  },
  {
   "cell_type": "markdown",
   "metadata": {},
   "source": [
    "The results show that the **2.36%** of the funnels, excluding the view-purchase ones, are complete. The interesting outcome is that the rate of complete funnels doubles if taking into account also the one-click purchases (**5.35%**). We deduce that customers often enjoy the one-click route instead of the \"traditional\" route, maybe thanks to the immediacy of the transaction. "
   ]
  },
  {
   "cell_type": "markdown",
   "metadata": {},
   "source": [
    "## What’s the operation users repeat more on average within a session? *"
   ]
  },
  {
   "cell_type": "markdown",
   "metadata": {},
   "source": [
    "In order to get, for each session and event (*view*, *cart*, *purchase*), the average number of operations performed by users, we need to count the tuples of each event and the number of distinct sessions; then, the rate $\\frac{n_{event}}{n_{sessions}}$ is the requested outcome."
   ]
  },
  {
   "cell_type": "code",
   "execution_count": 2,
   "metadata": {},
   "outputs": [
    {
     "name": "stdout",
     "output_type": "stream",
     "text": [
      "9.07 views, 0.34 carts, 0.14 purchases. 23,016,651 sessions.\n",
      "\n",
      "\n"
     ]
    },
    {
     "data": {
      "image/png": "[encoded data removed]",
      "text/plain": [
       "<Figure size 576x576 with 1 Axes>"
      ]
     },
     "metadata": {
      "needs_background": "light"
     },
     "output_type": "display_data"
    }
   ],
   "source": [
    "f.average_number_operations(['user_session', 'event_type'])"
   ]
  },
  {
   "cell_type": "markdown",
   "metadata": {},
   "source": [
    "Observing the plot, it is evident that the number of *views* is far way greater than the number of *carts* and *purchases*; specifically, it is more than 26 and 64 times greater, respectively. This outcome, as expected, confirms the result discussed in the previous sub-point: customers view a lot of products, maybe many times each, before decide to add them to the cart and make a purchase."
   ]
  },
  {
   "cell_type": "markdown",
   "metadata": {},
   "source": [
    "## How many times, on average, a user views a product before adding it to the cart? *"
   ]
  },
  {
   "cell_type": "markdown",
   "metadata": {},
   "source": [
    "To solve this task, the needed attributes are `user_id`, `product_id`, `event_type` and `event_time`. Selecting the sets related to *cart* and *view* events and joining them on `user_id` and `product_id` give the desired result. It is relevant to remark that the attribute `event_time` is crucial to filter the tuples of the joint set according to the condition `event_time_view < event_time_cart` for each `(user_id, product_id)` couple. "
   ]
  },
  {
   "cell_type": "code",
   "execution_count": 7,
   "metadata": {},
   "outputs": [
    {
     "name": "stdout",
     "output_type": "stream",
     "text": [
      "On average a user views a product 10.05 times before adding it to the cart.\n"
     ]
    }
   ],
   "source": [
    "f.average_views_before_cart(['user_id', 'product_id', 'event_type', 'event_time'])"
   ]
  },
  {
   "cell_type": "markdown",
   "metadata": {},
   "source": [
    "As expected by analyzing the plot above, a user views a product **10 times** before adding it to the cart. This is the reason why the *view* event overcomes the others by far."
   ]
  },
  {
   "cell_type": "markdown",
   "metadata": {},
   "source": [
    "## What’s the probability that products added once to the cart are effectively bought? *"
   ]
  },
  {
   "cell_type": "markdown",
   "metadata": {},
   "source": [
    "Let $C$ and $P$ be the events such that\n",
    "\n",
    "$\n",
    "C = \\{\\text{a product is added to the cart}\\}\\\\\n",
    "P = \\{\\text{a product is bought}\\}.\n",
    "$\n",
    "\n",
    "In this task, we are asked to find the probability that products added once to the cart are effectively bought, that is the conditional probability $\\mathbb{P}(P|C)$. According to the definition of conditional probability, we have\n",
    "\n",
    "$\n",
    "\\mathbb{P}(P|C)=\\frac{\\mathbb{P}(C\\cap P)}{\\mathbb{P}(C)}.\n",
    "$\n",
    "\n",
    "The probability of the event C is\n",
    "\n",
    "$\n",
    "\\mathbb{P}(C)=\\frac{\\text{# of cart tuples}}{\\text{# of tuples}}=\\frac{n_{cart}}{n_{tuples}}.\n",
    "$\n",
    "\n",
    "Similarly, the probability of the event $C\\cap P$ is\n",
    "\n",
    "$\n",
    "\\mathbb{P}(C\\cap P)=\\frac{\\text{# of cart tuples corresponding to purchase tuples}}{\\text{# of tuples}}=\\frac{n_{cart\\_purchase}}{n_{tuples}}.\n",
    "$\n",
    "\n",
    "Then, the requested probability is $\\mathbb{P}(P|C)=\\frac{n_{cart\\_purchase}}{n_{tuples}}\\times\\frac{n_{tuples}}{n_{cart}}=\\frac{n_{cart\\_purchase}}{n_{cart}}$."
   ]
  },
  {
   "cell_type": "code",
   "execution_count": 3,
   "metadata": {},
   "outputs": [
    {
     "name": "stdout",
     "output_type": "stream",
     "text": [
      "The probability that products added once to the cart are effectively bought is 65.17%.\n"
     ]
    }
   ],
   "source": [
    "f.probability_purchase(['user_session', 'product_id', 'event_type'])"
   ]
  },
  {
   "cell_type": "markdown",
   "metadata": {},
   "source": [
    "As the result points out, more than **1 addition to the cart in 3** is successful. Once again, this result visually finds confirmation in the plot above."
   ]
  },
  {
   "cell_type": "markdown",
   "metadata": {},
   "source": [
    "## What’s the average time an item stays in the cart before being removed? *"
   ]
  },
  {
   "cell_type": "markdown",
   "metadata": {},
   "source": [
    "For this task, we came up with an estimation of the average time an item stays in the cart before being removed. Indeed, despite the [description of the data](https://www.kaggle.com/mkechinov/ecommerce-behavior-data-from-multi-category-store?select=2019-Oct.csv) and according to [this punctualization](https://www.kaggle.com/mkechinov/ecommerce-behavior-data-from-multi-category-store/discussion/132470#757896), there is no *removefromcart* event. Then, observing the behaviour of some famous e-commerce stores, we assumed that the cart state lives within a session; this means that when the session expires, the cart is deleted. In other words, the cart state is session-bound. \n",
    "\n",
    "To approximate the session expiration, we pick the last operation within each session, that is the operation with the maximum timestamp within the session. Performing the timestamp difference between a cart event and the corresponding last session operation, we are able to compute the desired average time."
   ]
  },
  {
   "cell_type": "code",
   "execution_count": null,
   "metadata": {},
   "outputs": [],
   "source": [
    "f.average_time_cart(['event_type', 'user_session', 'product_id', 'event_time'])"
   ]
  },
  {
   "cell_type": "markdown",
   "metadata": {},
   "source": [
    "## How much time passes on average between the first view time and a purchase/addition to cart? *"
   ]
  },
  {
   "cell_type": "markdown",
   "metadata": {},
   "source": [
    "Thanks to the generic question of this task, we decided to analyze two different cases in order to highlight some characteristics of the customers.\n",
    "\n",
    "The first case we dealt with is considering the average time between the very first view of a user and her very first addition to the cart/purchase. In other words, we chose to measure how much time a user takes before generating a profit."
   ]
  },
  {
   "cell_type": "code",
   "execution_count": 2,
   "metadata": {},
   "outputs": [
    {
     "name": "stdout",
     "output_type": "stream",
     "text": [
      "The average time between the first view time and a purchase/addition to cart is 128.89 hours.\n",
      "The standard deviation is 268.74 hours.\n"
     ]
    }
   ],
   "source": [
    "f.average_time_after_first_view_1(['event_type', 'event_time', 'user_id'])"
   ]
  },
  {
   "cell_type": "markdown",
   "metadata": {},
   "source": [
    "To be more aware of the amount of time, we convert the result into days:"
   ]
  },
  {
   "cell_type": "code",
   "execution_count": 3,
   "metadata": {},
   "outputs": [
    {
     "name": "stdout",
     "output_type": "stream",
     "text": [
      "The average time between the first view time and a purchase/addition to cart is 5 days.\n",
      "The standard deviation is 11 days.\n"
     ]
    }
   ],
   "source": [
    "print(f'The average time between the first view time and a purchase/addition to cart is {round(128.89 / 24)} days.')\n",
    "print(f'The standard deviation is {round(268.74 / 24)} days.')"
   ]
  },
  {
   "cell_type": "markdown",
   "metadata": {},
   "source": [
    "On average, a user generates a profit **5 days** after she learnt about our business, which is pretty much! The standard deviation of **11 days** points out that there are some outliers in the delta-time distribution: probably, there are some users who view and add/buy a product immediately and others that add/buy a product after many weeks."
   ]
  },
  {
   "cell_type": "markdown",
   "metadata": {},
   "source": [
    "In the second case we analyzed, we considered the average time between the very first view of a specific product by a user and its corresponding addition to the cart/purchase. To be clear, we estimated how much time a user takes before deciding to buy a specific product she previuosly saw. We filtered the tuples by the attribute `user_id` instead of `user_session` because a user may view a product for the first time during one session and add it to the cart/purchase it during another session. "
   ]
  },
  {
   "cell_type": "code",
   "execution_count": null,
   "metadata": {
    "scrolled": true
   },
   "outputs": [
    {
     "name": "stderr",
     "output_type": "stream",
     "text": [
      "43it [06:18,  8.79s/it]\n",
      "26it [03:43,  8.87s/it]"
     ]
    }
   ],
   "source": [
    "f.average_time_after_first_view_2(['event_type', 'event_time', 'user_id', 'product_id'])"
   ]
  },
  {
   "cell_type": "markdown",
   "metadata": {},
   "source": []
  },
  {
   "cell_type": "markdown",
   "metadata": {},
   "source": [
    "---\n",
    "# [RQ2]  What are the categories of the most trending products overall? *"
   ]
  },
  {
   "cell_type": "markdown",
   "metadata": {},
   "source": [
    "We produced a plot showing the number of sold products per category: obtaining a subset of only the purchases, we grouped by category code, and counted the number of sold product plotting the biggest 10 values"
   ]
  },
  {
   "cell_type": "code",
   "execution_count": 2,
   "metadata": {},
   "outputs": [
    {
     "ename": "FileNotFoundError",
     "evalue": "[Errno 2] File ./data/2019-Oct.csv does not exist: './data/2019-Oct.csv'",
     "output_type": "error",
     "traceback": [
      "\u001b[1;31m---------------------------------------------------------------------------\u001b[0m",
      "\u001b[1;31mFileNotFoundError\u001b[0m                         Traceback (most recent call last)",
      "\u001b[1;32m<ipython-input-2-900f9dfb1679>\u001b[0m in \u001b[0;36m<module>\u001b[1;34m\u001b[0m\n\u001b[1;32m----> 1\u001b[1;33m \u001b[0mf\u001b[0m\u001b[1;33m.\u001b[0m\u001b[0mnum_sold_per_cat\u001b[0m\u001b[1;33m(\u001b[0m\u001b[1;33m)\u001b[0m\u001b[1;33m\u001b[0m\u001b[1;33m\u001b[0m\u001b[0m\n\u001b[0m",
      "\u001b[1;32m~\\Documents\\GitHub\\ADM-HW2\\scripts\\our_functions.py\u001b[0m in \u001b[0;36mnum_sold_per_cat\u001b[1;34m()\u001b[0m\n\u001b[0;32m    289\u001b[0m     \u001b[0mcols\u001b[0m \u001b[1;33m=\u001b[0m \u001b[1;33m[\u001b[0m\u001b[1;34m'event_type'\u001b[0m\u001b[1;33m,\u001b[0m \u001b[1;34m'category_code'\u001b[0m\u001b[1;33m,\u001b[0m \u001b[1;34m'product_id'\u001b[0m\u001b[1;33m]\u001b[0m\u001b[1;33m\u001b[0m\u001b[1;33m\u001b[0m\u001b[0m\n\u001b[0;32m    290\u001b[0m     \u001b[1;31m#import the data of October and parse the column event_time to datetime\u001b[0m\u001b[1;33m\u001b[0m\u001b[1;33m\u001b[0m\u001b[1;33m\u001b[0m\u001b[0m\n\u001b[1;32m--> 291\u001b[1;33m     data = pd.read_csv(DATA_PATH + \"2019-Oct.csv\",\n\u001b[0m\u001b[0;32m    292\u001b[0m                     \u001b[0mdtype\u001b[0m\u001b[1;33m=\u001b[0m\u001b[1;33m{\u001b[0m\u001b[1;34m'product_id'\u001b[0m\u001b[1;33m:\u001b[0m\u001b[0mnp\u001b[0m\u001b[1;33m.\u001b[0m\u001b[0mint32\u001b[0m\u001b[1;33m}\u001b[0m\u001b[1;33m,\u001b[0m\u001b[1;33m\u001b[0m\u001b[1;33m\u001b[0m\u001b[0m\n\u001b[0;32m    293\u001b[0m                     usecols=cols)\n",
      "\u001b[1;32mC:\\ProgramData\\Anaconda3\\lib\\site-packages\\pandas\\io\\parsers.py\u001b[0m in \u001b[0;36mparser_f\u001b[1;34m(filepath_or_buffer, sep, delimiter, header, names, index_col, usecols, squeeze, prefix, mangle_dupe_cols, dtype, engine, converters, true_values, false_values, skipinitialspace, skiprows, skipfooter, nrows, na_values, keep_default_na, na_filter, verbose, skip_blank_lines, parse_dates, infer_datetime_format, keep_date_col, date_parser, dayfirst, cache_dates, iterator, chunksize, compression, thousands, decimal, lineterminator, quotechar, quoting, doublequote, escapechar, comment, encoding, dialect, error_bad_lines, warn_bad_lines, delim_whitespace, low_memory, memory_map, float_precision)\u001b[0m\n\u001b[0;32m    674\u001b[0m         )\n\u001b[0;32m    675\u001b[0m \u001b[1;33m\u001b[0m\u001b[0m\n\u001b[1;32m--> 676\u001b[1;33m         \u001b[1;32mreturn\u001b[0m \u001b[0m_read\u001b[0m\u001b[1;33m(\u001b[0m\u001b[0mfilepath_or_buffer\u001b[0m\u001b[1;33m,\u001b[0m \u001b[0mkwds\u001b[0m\u001b[1;33m)\u001b[0m\u001b[1;33m\u001b[0m\u001b[1;33m\u001b[0m\u001b[0m\n\u001b[0m\u001b[0;32m    677\u001b[0m \u001b[1;33m\u001b[0m\u001b[0m\n\u001b[0;32m    678\u001b[0m     \u001b[0mparser_f\u001b[0m\u001b[1;33m.\u001b[0m\u001b[0m__name__\u001b[0m \u001b[1;33m=\u001b[0m \u001b[0mname\u001b[0m\u001b[1;33m\u001b[0m\u001b[1;33m\u001b[0m\u001b[0m\n",
      "\u001b[1;32mC:\\ProgramData\\Anaconda3\\lib\\site-packages\\pandas\\io\\parsers.py\u001b[0m in \u001b[0;36m_read\u001b[1;34m(filepath_or_buffer, kwds)\u001b[0m\n\u001b[0;32m    446\u001b[0m \u001b[1;33m\u001b[0m\u001b[0m\n\u001b[0;32m    447\u001b[0m     \u001b[1;31m# Create the parser.\u001b[0m\u001b[1;33m\u001b[0m\u001b[1;33m\u001b[0m\u001b[1;33m\u001b[0m\u001b[0m\n\u001b[1;32m--> 448\u001b[1;33m     \u001b[0mparser\u001b[0m \u001b[1;33m=\u001b[0m \u001b[0mTextFileReader\u001b[0m\u001b[1;33m(\u001b[0m\u001b[0mfp_or_buf\u001b[0m\u001b[1;33m,\u001b[0m \u001b[1;33m**\u001b[0m\u001b[0mkwds\u001b[0m\u001b[1;33m)\u001b[0m\u001b[1;33m\u001b[0m\u001b[1;33m\u001b[0m\u001b[0m\n\u001b[0m\u001b[0;32m    449\u001b[0m \u001b[1;33m\u001b[0m\u001b[0m\n\u001b[0;32m    450\u001b[0m     \u001b[1;32mif\u001b[0m \u001b[0mchunksize\u001b[0m \u001b[1;32mor\u001b[0m \u001b[0miterator\u001b[0m\u001b[1;33m:\u001b[0m\u001b[1;33m\u001b[0m\u001b[1;33m\u001b[0m\u001b[0m\n",
      "\u001b[1;32mC:\\ProgramData\\Anaconda3\\lib\\site-packages\\pandas\\io\\parsers.py\u001b[0m in \u001b[0;36m__init__\u001b[1;34m(self, f, engine, **kwds)\u001b[0m\n\u001b[0;32m    878\u001b[0m             \u001b[0mself\u001b[0m\u001b[1;33m.\u001b[0m\u001b[0moptions\u001b[0m\u001b[1;33m[\u001b[0m\u001b[1;34m\"has_index_names\"\u001b[0m\u001b[1;33m]\u001b[0m \u001b[1;33m=\u001b[0m \u001b[0mkwds\u001b[0m\u001b[1;33m[\u001b[0m\u001b[1;34m\"has_index_names\"\u001b[0m\u001b[1;33m]\u001b[0m\u001b[1;33m\u001b[0m\u001b[1;33m\u001b[0m\u001b[0m\n\u001b[0;32m    879\u001b[0m \u001b[1;33m\u001b[0m\u001b[0m\n\u001b[1;32m--> 880\u001b[1;33m         \u001b[0mself\u001b[0m\u001b[1;33m.\u001b[0m\u001b[0m_make_engine\u001b[0m\u001b[1;33m(\u001b[0m\u001b[0mself\u001b[0m\u001b[1;33m.\u001b[0m\u001b[0mengine\u001b[0m\u001b[1;33m)\u001b[0m\u001b[1;33m\u001b[0m\u001b[1;33m\u001b[0m\u001b[0m\n\u001b[0m\u001b[0;32m    881\u001b[0m \u001b[1;33m\u001b[0m\u001b[0m\n\u001b[0;32m    882\u001b[0m     \u001b[1;32mdef\u001b[0m \u001b[0mclose\u001b[0m\u001b[1;33m(\u001b[0m\u001b[0mself\u001b[0m\u001b[1;33m)\u001b[0m\u001b[1;33m:\u001b[0m\u001b[1;33m\u001b[0m\u001b[1;33m\u001b[0m\u001b[0m\n",
      "\u001b[1;32mC:\\ProgramData\\Anaconda3\\lib\\site-packages\\pandas\\io\\parsers.py\u001b[0m in \u001b[0;36m_make_engine\u001b[1;34m(self, engine)\u001b[0m\n\u001b[0;32m   1112\u001b[0m     \u001b[1;32mdef\u001b[0m \u001b[0m_make_engine\u001b[0m\u001b[1;33m(\u001b[0m\u001b[0mself\u001b[0m\u001b[1;33m,\u001b[0m \u001b[0mengine\u001b[0m\u001b[1;33m=\u001b[0m\u001b[1;34m\"c\"\u001b[0m\u001b[1;33m)\u001b[0m\u001b[1;33m:\u001b[0m\u001b[1;33m\u001b[0m\u001b[1;33m\u001b[0m\u001b[0m\n\u001b[0;32m   1113\u001b[0m         \u001b[1;32mif\u001b[0m \u001b[0mengine\u001b[0m \u001b[1;33m==\u001b[0m \u001b[1;34m\"c\"\u001b[0m\u001b[1;33m:\u001b[0m\u001b[1;33m\u001b[0m\u001b[1;33m\u001b[0m\u001b[0m\n\u001b[1;32m-> 1114\u001b[1;33m             \u001b[0mself\u001b[0m\u001b[1;33m.\u001b[0m\u001b[0m_engine\u001b[0m \u001b[1;33m=\u001b[0m \u001b[0mCParserWrapper\u001b[0m\u001b[1;33m(\u001b[0m\u001b[0mself\u001b[0m\u001b[1;33m.\u001b[0m\u001b[0mf\u001b[0m\u001b[1;33m,\u001b[0m \u001b[1;33m**\u001b[0m\u001b[0mself\u001b[0m\u001b[1;33m.\u001b[0m\u001b[0moptions\u001b[0m\u001b[1;33m)\u001b[0m\u001b[1;33m\u001b[0m\u001b[1;33m\u001b[0m\u001b[0m\n\u001b[0m\u001b[0;32m   1115\u001b[0m         \u001b[1;32melse\u001b[0m\u001b[1;33m:\u001b[0m\u001b[1;33m\u001b[0m\u001b[1;33m\u001b[0m\u001b[0m\n\u001b[0;32m   1116\u001b[0m             \u001b[1;32mif\u001b[0m \u001b[0mengine\u001b[0m \u001b[1;33m==\u001b[0m \u001b[1;34m\"python\"\u001b[0m\u001b[1;33m:\u001b[0m\u001b[1;33m\u001b[0m\u001b[1;33m\u001b[0m\u001b[0m\n",
      "\u001b[1;32mC:\\ProgramData\\Anaconda3\\lib\\site-packages\\pandas\\io\\parsers.py\u001b[0m in \u001b[0;36m__init__\u001b[1;34m(self, src, **kwds)\u001b[0m\n\u001b[0;32m   1889\u001b[0m         \u001b[0mkwds\u001b[0m\u001b[1;33m[\u001b[0m\u001b[1;34m\"usecols\"\u001b[0m\u001b[1;33m]\u001b[0m \u001b[1;33m=\u001b[0m \u001b[0mself\u001b[0m\u001b[1;33m.\u001b[0m\u001b[0musecols\u001b[0m\u001b[1;33m\u001b[0m\u001b[1;33m\u001b[0m\u001b[0m\n\u001b[0;32m   1890\u001b[0m \u001b[1;33m\u001b[0m\u001b[0m\n\u001b[1;32m-> 1891\u001b[1;33m         \u001b[0mself\u001b[0m\u001b[1;33m.\u001b[0m\u001b[0m_reader\u001b[0m \u001b[1;33m=\u001b[0m \u001b[0mparsers\u001b[0m\u001b[1;33m.\u001b[0m\u001b[0mTextReader\u001b[0m\u001b[1;33m(\u001b[0m\u001b[0msrc\u001b[0m\u001b[1;33m,\u001b[0m \u001b[1;33m**\u001b[0m\u001b[0mkwds\u001b[0m\u001b[1;33m)\u001b[0m\u001b[1;33m\u001b[0m\u001b[1;33m\u001b[0m\u001b[0m\n\u001b[0m\u001b[0;32m   1892\u001b[0m         \u001b[0mself\u001b[0m\u001b[1;33m.\u001b[0m\u001b[0munnamed_cols\u001b[0m \u001b[1;33m=\u001b[0m \u001b[0mself\u001b[0m\u001b[1;33m.\u001b[0m\u001b[0m_reader\u001b[0m\u001b[1;33m.\u001b[0m\u001b[0munnamed_cols\u001b[0m\u001b[1;33m\u001b[0m\u001b[1;33m\u001b[0m\u001b[0m\n\u001b[0;32m   1893\u001b[0m \u001b[1;33m\u001b[0m\u001b[0m\n",
      "\u001b[1;32mpandas\\_libs\\parsers.pyx\u001b[0m in \u001b[0;36mpandas._libs.parsers.TextReader.__cinit__\u001b[1;34m()\u001b[0m\n",
      "\u001b[1;32mpandas\\_libs\\parsers.pyx\u001b[0m in \u001b[0;36mpandas._libs.parsers.TextReader._setup_parser_source\u001b[1;34m()\u001b[0m\n",
      "\u001b[1;31mFileNotFoundError\u001b[0m: [Errno 2] File ./data/2019-Oct.csv does not exist: './data/2019-Oct.csv'"
     ]
    }
   ],
   "source": [
    "f.num_sold_per_cat()"
   ]
  },
  {
   "cell_type": "markdown",
   "metadata": {},
   "source": [
    "We then plotted the 10 most visited subcategories, obtaining a subset of only the views, grouping by category code and counting the views of each category"
   ]
  },
  {
   "cell_type": "code",
   "execution_count": null,
   "metadata": {},
   "outputs": [],
   "source": [
    "f.most_v_cat()"
   ]
  },
  {
   "cell_type": "markdown",
   "metadata": {},
   "source": [
    "And eventually we produced a list showing the most sold products per category: obtaining a subset of only the purchases, we counted, for each category code, the number of sold products"
   ]
  },
  {
   "cell_type": "code",
   "execution_count": null,
   "metadata": {},
   "outputs": [],
   "source": [
    "f.most_sold_per_cat()"
   ]
  },
  {
   "cell_type": "markdown",
   "metadata": {},
   "source": [
    "# [RQ4] How much does each brand earn per month? *"
   ]
  },
  {
   "cell_type": "markdown",
   "metadata": {},
   "source": [
    "As we were asked, we wrote the following function to get the profit per month given the brand name:"
   ]
  },
  {
   "cell_type": "markdown",
   "metadata": {},
   "source": [
    "```python\n",
    "def get_profit_per_month(brand_name, dataset_list:list=None):\n",
    "    global month_files\n",
    "    if dataset_list == None:\n",
    "        dataset_list = get_purchases(['brand', 'product_id', 'price', 'event_type'])\n",
    "    profit_per_month = {}\n",
    "    for i in range(len(month_files)):\n",
    "        profit = 0\n",
    "        month_name = month_files[i][5:8]\n",
    "        brand_items = dataset_list[i][dataset_list[i].brand == brand_name]\n",
    "        if not brand_items.empty:\n",
    "            profit = brand_items[(brand_items.price.notna()) & \n",
    "                                 (brand_items.price.notnull())].price.agg('sum')\n",
    "        profit_per_month[month_name] = profit\n",
    "    return profit_per_month\n",
    "```"
   ]
  },
  {
   "cell_type": "markdown",
   "metadata": {},
   "source": [
    "The profit of a brand is equal to the sum of the purchases of the brand products. So, we get the *purchase* tuples and we filter on the brand name. This way, the function returns a dictionary containing (month->profit) couples. "
   ]
  },
  {
   "cell_type": "markdown",
   "metadata": {},
   "source": [
    "For example, the profit of the brand Samsung is:"
   ]
  },
  {
   "cell_type": "code",
   "execution_count": 7,
   "metadata": {},
   "outputs": [
    {
     "name": "stdout",
     "output_type": "stream",
     "text": [
      "Samsung earned 46,407,524.00$ in October and 54,869,880.00$ in November.\n"
     ]
    }
   ],
   "source": [
    "profit = f.get_profit_per_month('samsung')\n",
    "print(f'Samsung earned {profit[\"Oct\"]:,.2f}$ in October and {profit[\"Nov\"]:,.2f}$ in November.')"
   ]
  },
  {
   "cell_type": "markdown",
   "metadata": {},
   "source": [
    "## Is the average price of products of different brands significantly different? *"
   ]
  },
  {
   "cell_type": "markdown",
   "metadata": {},
   "source": [
    "To answer to this question, we first compute the mean of the price of the distinct products for each brand; then, we calculate the standard deviation of the means. Indeed, the standard deviation allows us to understand how much the average price of each brand differ from the mean."
   ]
  },
  {
   "cell_type": "code",
   "execution_count": 2,
   "metadata": {},
   "outputs": [
    {
     "name": "stdout",
     "output_type": "stream",
     "text": [
      "The mean of the average price of the products for each brand is 171.71$,\n",
      "with a standard deviation of 267.11$.\n"
     ]
    }
   ],
   "source": [
    "brand_means = f.price_std_dev(['brand', 'product_id', 'price'])"
   ]
  },
  {
   "cell_type": "markdown",
   "metadata": {},
   "source": [
    "Comparing the mean we obtained with the related standard deviation, we can deduce that the variation inside the average price distribution is pretty relevant. To prove this, we can take the maximum and the minimum average price:"
   ]
  },
  {
   "cell_type": "code",
   "execution_count": 4,
   "metadata": {},
   "outputs": [
    {
     "name": "stdout",
     "output_type": "stream",
     "text": [
      "The minimum average price is:\t0.97$.\n",
      "The maximum average price is:\t2,522.59$.\n"
     ]
    }
   ],
   "source": [
    "print(f'The minimum average price is:\\t{brand_means.min():,.2f}$.\\nThe maximum average price is:\\t{brand_means.max():,.2f}$.')"
   ]
  },
  {
   "cell_type": "markdown",
   "metadata": {},
   "source": [
    "As shown, there is a huge difference between the maximum and the minimum average price."
   ]
  },
  {
   "cell_type": "markdown",
   "metadata": {},
   "source": [
    "## Find the top 3 brands that have suffered the biggest losses in earnings between one month and the next *"
   ]
  },
  {
   "cell_type": "markdown",
   "metadata": {},
   "source": [
    "We assumed as \"biggest losses\" the percentage losses between one month and the next. We compute the loss as:\n",
    "\n",
    "$\n",
    "l_{\\%} = \\frac{profit_{nov}-profit_{oct}}{profit_{oct}+1}\\times 100\n",
    "$\n",
    "\n",
    "We add 1 to $profit_{oct}$ to avoid zero divisions. This implies that, when $profit_{nov}$ is 0, the loss is *almost* 100%, but not exactly 0. We assume that this approximation is negligible."
   ]
  },
  {
   "cell_type": "code",
   "execution_count": 2,
   "metadata": {},
   "outputs": [
    {
     "name": "stdout",
     "output_type": "stream",
     "text": [
      "The brand \"eltreco\" lost 99.99% between Oct and Nov.\n",
      "The brand \"kingsong\" lost 99.98% between Oct and Nov.\n",
      "The brand \"erdenet\" lost 99.98% between Oct and Nov.\n"
     ]
    }
   ],
   "source": [
    "f.top_n_two_months_losses(['brand', 'product_id', 'price', 'event_type'], 'Oct', 'Nov')"
   ]
  },
  {
   "cell_type": "markdown",
   "metadata": {},
   "source": [
    "As expected, the top 3 brands that suffered the biggest losses between October and November are minor brands, with small business. Their losses suggest that these 3 brands didn't earn anything (or almost anything) during November. Nevertheless, they may not be those which had the greatest *absolute losses*. To verify this out, we slightly modified the previous function.  "
   ]
  },
  {
   "cell_type": "code",
   "execution_count": 3,
   "metadata": {},
   "outputs": [
    {
     "name": "stdout",
     "output_type": "stream",
     "text": [
      "The brand \"acer\" lost 229,413.00$ between Oct and Nov.\n",
      "The brand \"peda\" lost 171,063.44$ between Oct and Nov.\n",
      "The brand \"omabelle\" lost 145,833.72$ between Oct and Nov.\n"
     ]
    }
   ],
   "source": [
    "f.top_n_two_months_losses_abs(['brand', 'product_id', 'price', 'event_type'], 'Oct', 'Nov')"
   ]
  },
  {
   "cell_type": "markdown",
   "metadata": {},
   "source": [
    "Indeed, the list of the top 3 brand is now completely different."
   ]
  },
  {
   "cell_type": "markdown",
   "metadata": {},
   "source": [
    "---\n",
    "# [RQ5]  In what part of the day is your store most visited? *"
   ]
  },
  {
   "cell_type": "markdown",
   "metadata": {},
   "source": [
    "We created a heatmap plot that, for each day of the week, shows the hourly average of visitors the store has"
   ]
  },
  {
   "cell_type": "code",
   "execution_count": 3,
   "metadata": {},
   "outputs": [
    {
     "ename": "FileNotFoundError",
     "evalue": "[Errno 2] File ./data/2019-Oct.csv does not exist: './data/2019-Oct.csv'",
     "output_type": "error",
     "traceback": [
      "\u001b[1;31m---------------------------------------------------------------------------\u001b[0m",
      "\u001b[1;31mFileNotFoundError\u001b[0m                         Traceback (most recent call last)",
      "\u001b[1;32m<ipython-input-3-aa7c4380d4e4>\u001b[0m in \u001b[0;36m<module>\u001b[1;34m\u001b[0m\n\u001b[1;32m----> 1\u001b[1;33m \u001b[0mf\u001b[0m\u001b[1;33m.\u001b[0m\u001b[0mhavg_visit\u001b[0m\u001b[1;33m(\u001b[0m\u001b[1;33m)\u001b[0m\u001b[1;33m\u001b[0m\u001b[1;33m\u001b[0m\u001b[0m\n\u001b[0m",
      "\u001b[1;32m~\\Documents\\GitHub\\ADM-HW2\\scripts\\our_functions.py\u001b[0m in \u001b[0;36mhavg_visit\u001b[1;34m()\u001b[0m\n\u001b[0;32m    474\u001b[0m     \u001b[0mcols\u001b[0m \u001b[1;33m=\u001b[0m \u001b[1;33m[\u001b[0m\u001b[1;34m'event_time'\u001b[0m\u001b[1;33m,\u001b[0m \u001b[1;34m'event_type'\u001b[0m\u001b[1;33m]\u001b[0m\u001b[1;33m\u001b[0m\u001b[1;33m\u001b[0m\u001b[0m\n\u001b[0;32m    475\u001b[0m     \u001b[1;31m#import the data of October and parse the column event_time to datetime\u001b[0m\u001b[1;33m\u001b[0m\u001b[1;33m\u001b[0m\u001b[1;33m\u001b[0m\u001b[0m\n\u001b[1;32m--> 476\u001b[1;33m     data = pd.read_csv(DATA_PATH + \"2019-Oct.csv\", \n\u001b[0m\u001b[0;32m    477\u001b[0m                    \u001b[0mparse_dates\u001b[0m\u001b[1;33m=\u001b[0m\u001b[1;33m[\u001b[0m\u001b[1;34m'event_time'\u001b[0m\u001b[1;33m]\u001b[0m\u001b[1;33m,\u001b[0m\u001b[1;33m\u001b[0m\u001b[1;33m\u001b[0m\u001b[0m\n\u001b[0;32m    478\u001b[0m                    \u001b[0mdate_parser\u001b[0m\u001b[1;33m=\u001b[0m\u001b[0mpd\u001b[0m\u001b[1;33m.\u001b[0m\u001b[0mto_datetime\u001b[0m\u001b[1;33m,\u001b[0m\u001b[1;33m\u001b[0m\u001b[1;33m\u001b[0m\u001b[0m\n",
      "\u001b[1;32mC:\\ProgramData\\Anaconda3\\lib\\site-packages\\pandas\\io\\parsers.py\u001b[0m in \u001b[0;36mparser_f\u001b[1;34m(filepath_or_buffer, sep, delimiter, header, names, index_col, usecols, squeeze, prefix, mangle_dupe_cols, dtype, engine, converters, true_values, false_values, skipinitialspace, skiprows, skipfooter, nrows, na_values, keep_default_na, na_filter, verbose, skip_blank_lines, parse_dates, infer_datetime_format, keep_date_col, date_parser, dayfirst, cache_dates, iterator, chunksize, compression, thousands, decimal, lineterminator, quotechar, quoting, doublequote, escapechar, comment, encoding, dialect, error_bad_lines, warn_bad_lines, delim_whitespace, low_memory, memory_map, float_precision)\u001b[0m\n\u001b[0;32m    674\u001b[0m         )\n\u001b[0;32m    675\u001b[0m \u001b[1;33m\u001b[0m\u001b[0m\n\u001b[1;32m--> 676\u001b[1;33m         \u001b[1;32mreturn\u001b[0m \u001b[0m_read\u001b[0m\u001b[1;33m(\u001b[0m\u001b[0mfilepath_or_buffer\u001b[0m\u001b[1;33m,\u001b[0m \u001b[0mkwds\u001b[0m\u001b[1;33m)\u001b[0m\u001b[1;33m\u001b[0m\u001b[1;33m\u001b[0m\u001b[0m\n\u001b[0m\u001b[0;32m    677\u001b[0m \u001b[1;33m\u001b[0m\u001b[0m\n\u001b[0;32m    678\u001b[0m     \u001b[0mparser_f\u001b[0m\u001b[1;33m.\u001b[0m\u001b[0m__name__\u001b[0m \u001b[1;33m=\u001b[0m \u001b[0mname\u001b[0m\u001b[1;33m\u001b[0m\u001b[1;33m\u001b[0m\u001b[0m\n",
      "\u001b[1;32mC:\\ProgramData\\Anaconda3\\lib\\site-packages\\pandas\\io\\parsers.py\u001b[0m in \u001b[0;36m_read\u001b[1;34m(filepath_or_buffer, kwds)\u001b[0m\n\u001b[0;32m    446\u001b[0m \u001b[1;33m\u001b[0m\u001b[0m\n\u001b[0;32m    447\u001b[0m     \u001b[1;31m# Create the parser.\u001b[0m\u001b[1;33m\u001b[0m\u001b[1;33m\u001b[0m\u001b[1;33m\u001b[0m\u001b[0m\n\u001b[1;32m--> 448\u001b[1;33m     \u001b[0mparser\u001b[0m \u001b[1;33m=\u001b[0m \u001b[0mTextFileReader\u001b[0m\u001b[1;33m(\u001b[0m\u001b[0mfp_or_buf\u001b[0m\u001b[1;33m,\u001b[0m \u001b[1;33m**\u001b[0m\u001b[0mkwds\u001b[0m\u001b[1;33m)\u001b[0m\u001b[1;33m\u001b[0m\u001b[1;33m\u001b[0m\u001b[0m\n\u001b[0m\u001b[0;32m    449\u001b[0m \u001b[1;33m\u001b[0m\u001b[0m\n\u001b[0;32m    450\u001b[0m     \u001b[1;32mif\u001b[0m \u001b[0mchunksize\u001b[0m \u001b[1;32mor\u001b[0m \u001b[0miterator\u001b[0m\u001b[1;33m:\u001b[0m\u001b[1;33m\u001b[0m\u001b[1;33m\u001b[0m\u001b[0m\n",
      "\u001b[1;32mC:\\ProgramData\\Anaconda3\\lib\\site-packages\\pandas\\io\\parsers.py\u001b[0m in \u001b[0;36m__init__\u001b[1;34m(self, f, engine, **kwds)\u001b[0m\n\u001b[0;32m    878\u001b[0m             \u001b[0mself\u001b[0m\u001b[1;33m.\u001b[0m\u001b[0moptions\u001b[0m\u001b[1;33m[\u001b[0m\u001b[1;34m\"has_index_names\"\u001b[0m\u001b[1;33m]\u001b[0m \u001b[1;33m=\u001b[0m \u001b[0mkwds\u001b[0m\u001b[1;33m[\u001b[0m\u001b[1;34m\"has_index_names\"\u001b[0m\u001b[1;33m]\u001b[0m\u001b[1;33m\u001b[0m\u001b[1;33m\u001b[0m\u001b[0m\n\u001b[0;32m    879\u001b[0m \u001b[1;33m\u001b[0m\u001b[0m\n\u001b[1;32m--> 880\u001b[1;33m         \u001b[0mself\u001b[0m\u001b[1;33m.\u001b[0m\u001b[0m_make_engine\u001b[0m\u001b[1;33m(\u001b[0m\u001b[0mself\u001b[0m\u001b[1;33m.\u001b[0m\u001b[0mengine\u001b[0m\u001b[1;33m)\u001b[0m\u001b[1;33m\u001b[0m\u001b[1;33m\u001b[0m\u001b[0m\n\u001b[0m\u001b[0;32m    881\u001b[0m \u001b[1;33m\u001b[0m\u001b[0m\n\u001b[0;32m    882\u001b[0m     \u001b[1;32mdef\u001b[0m \u001b[0mclose\u001b[0m\u001b[1;33m(\u001b[0m\u001b[0mself\u001b[0m\u001b[1;33m)\u001b[0m\u001b[1;33m:\u001b[0m\u001b[1;33m\u001b[0m\u001b[1;33m\u001b[0m\u001b[0m\n",
      "\u001b[1;32mC:\\ProgramData\\Anaconda3\\lib\\site-packages\\pandas\\io\\parsers.py\u001b[0m in \u001b[0;36m_make_engine\u001b[1;34m(self, engine)\u001b[0m\n\u001b[0;32m   1112\u001b[0m     \u001b[1;32mdef\u001b[0m \u001b[0m_make_engine\u001b[0m\u001b[1;33m(\u001b[0m\u001b[0mself\u001b[0m\u001b[1;33m,\u001b[0m \u001b[0mengine\u001b[0m\u001b[1;33m=\u001b[0m\u001b[1;34m\"c\"\u001b[0m\u001b[1;33m)\u001b[0m\u001b[1;33m:\u001b[0m\u001b[1;33m\u001b[0m\u001b[1;33m\u001b[0m\u001b[0m\n\u001b[0;32m   1113\u001b[0m         \u001b[1;32mif\u001b[0m \u001b[0mengine\u001b[0m \u001b[1;33m==\u001b[0m \u001b[1;34m\"c\"\u001b[0m\u001b[1;33m:\u001b[0m\u001b[1;33m\u001b[0m\u001b[1;33m\u001b[0m\u001b[0m\n\u001b[1;32m-> 1114\u001b[1;33m             \u001b[0mself\u001b[0m\u001b[1;33m.\u001b[0m\u001b[0m_engine\u001b[0m \u001b[1;33m=\u001b[0m \u001b[0mCParserWrapper\u001b[0m\u001b[1;33m(\u001b[0m\u001b[0mself\u001b[0m\u001b[1;33m.\u001b[0m\u001b[0mf\u001b[0m\u001b[1;33m,\u001b[0m \u001b[1;33m**\u001b[0m\u001b[0mself\u001b[0m\u001b[1;33m.\u001b[0m\u001b[0moptions\u001b[0m\u001b[1;33m)\u001b[0m\u001b[1;33m\u001b[0m\u001b[1;33m\u001b[0m\u001b[0m\n\u001b[0m\u001b[0;32m   1115\u001b[0m         \u001b[1;32melse\u001b[0m\u001b[1;33m:\u001b[0m\u001b[1;33m\u001b[0m\u001b[1;33m\u001b[0m\u001b[0m\n\u001b[0;32m   1116\u001b[0m             \u001b[1;32mif\u001b[0m \u001b[0mengine\u001b[0m \u001b[1;33m==\u001b[0m \u001b[1;34m\"python\"\u001b[0m\u001b[1;33m:\u001b[0m\u001b[1;33m\u001b[0m\u001b[1;33m\u001b[0m\u001b[0m\n",
      "\u001b[1;32mC:\\ProgramData\\Anaconda3\\lib\\site-packages\\pandas\\io\\parsers.py\u001b[0m in \u001b[0;36m__init__\u001b[1;34m(self, src, **kwds)\u001b[0m\n\u001b[0;32m   1889\u001b[0m         \u001b[0mkwds\u001b[0m\u001b[1;33m[\u001b[0m\u001b[1;34m\"usecols\"\u001b[0m\u001b[1;33m]\u001b[0m \u001b[1;33m=\u001b[0m \u001b[0mself\u001b[0m\u001b[1;33m.\u001b[0m\u001b[0musecols\u001b[0m\u001b[1;33m\u001b[0m\u001b[1;33m\u001b[0m\u001b[0m\n\u001b[0;32m   1890\u001b[0m \u001b[1;33m\u001b[0m\u001b[0m\n\u001b[1;32m-> 1891\u001b[1;33m         \u001b[0mself\u001b[0m\u001b[1;33m.\u001b[0m\u001b[0m_reader\u001b[0m \u001b[1;33m=\u001b[0m \u001b[0mparsers\u001b[0m\u001b[1;33m.\u001b[0m\u001b[0mTextReader\u001b[0m\u001b[1;33m(\u001b[0m\u001b[0msrc\u001b[0m\u001b[1;33m,\u001b[0m \u001b[1;33m**\u001b[0m\u001b[0mkwds\u001b[0m\u001b[1;33m)\u001b[0m\u001b[1;33m\u001b[0m\u001b[1;33m\u001b[0m\u001b[0m\n\u001b[0m\u001b[0;32m   1892\u001b[0m         \u001b[0mself\u001b[0m\u001b[1;33m.\u001b[0m\u001b[0munnamed_cols\u001b[0m \u001b[1;33m=\u001b[0m \u001b[0mself\u001b[0m\u001b[1;33m.\u001b[0m\u001b[0m_reader\u001b[0m\u001b[1;33m.\u001b[0m\u001b[0munnamed_cols\u001b[0m\u001b[1;33m\u001b[0m\u001b[1;33m\u001b[0m\u001b[0m\n\u001b[0;32m   1893\u001b[0m \u001b[1;33m\u001b[0m\u001b[0m\n",
      "\u001b[1;32mpandas\\_libs\\parsers.pyx\u001b[0m in \u001b[0;36mpandas._libs.parsers.TextReader.__cinit__\u001b[1;34m()\u001b[0m\n",
      "\u001b[1;32mpandas\\_libs\\parsers.pyx\u001b[0m in \u001b[0;36mpandas._libs.parsers.TextReader._setup_parser_source\u001b[1;34m()\u001b[0m\n",
      "\u001b[1;31mFileNotFoundError\u001b[0m: [Errno 2] File ./data/2019-Oct.csv does not exist: './data/2019-Oct.csv'"
     ]
    }
   ],
   "source": [
    "f.havg_visit()"
   ]
  },
  {
   "cell_type": "markdown",
   "metadata": {},
   "source": [
    "# [RQ7] Prove that the Pareto principle applies to your store *"
   ]
  },
  {
   "cell_type": "markdown",
   "metadata": {},
   "source": [
    "According to the Pareto principle, around 80% of the business of the e-commerce platform comes from about 20% of the customers. The keypoint in this task is state a definition of the \"platform business\". We gave two definitions of it:\n",
    "\n",
    "1. the total profit coming from the purchases.\n",
    "2. the number of operations performed within the platform.\n",
    "\n",
    "While the first case is self-explanatory, the second case needs a little explanation. We considered that the business of an e-commerce platform, that is its profit, may not come only from the purchases, but also from the activities within it; actually, even *view* events may generate some profit thanks to the ads that may be present inside the e-commerce web pages or thanks to the visibility of the products, for which each brand may pay a fee."
   ]
  },
  {
   "cell_type": "markdown",
   "metadata": {},
   "source": [
    "According to the previous introduction, in the first case we consider the 20% of the users that have spent the most in the e-commerce platform and we compute the rate between the profit coming from them and the total profit."
   ]
  },
  {
   "cell_type": "code",
   "execution_count": 3,
   "metadata": {},
   "outputs": [
    {
     "name": "stdout",
     "output_type": "stream",
     "text": [
      "The 20% of the users is responsible of the 72.0% of the business.\n"
     ]
    }
   ],
   "source": [
    "f.prove_pareto(['event_type', 'user_id', 'price'])"
   ]
  },
  {
   "cell_type": "markdown",
   "metadata": {},
   "source": [
    "In the second case, we just count how many operations each user performed, sorting them in descent order. Then, we compute the rate between the amount of operations performed by the 20% of the users and the total number of operations performed within the system. "
   ]
  },
  {
   "cell_type": "code",
   "execution_count": 4,
   "metadata": {},
   "outputs": [
    {
     "name": "stdout",
     "output_type": "stream",
     "text": [
      "The 20% of the users is responsible of the 77.0% of the business.\n"
     ]
    }
   ],
   "source": [
    "f.prove_pareto_ops(['user_id'])"
   ]
  },
  {
   "cell_type": "markdown",
   "metadata": {},
   "source": [
    "In both cases, the Pareto principle applies to our store."
   ]
  }
 ],
 "metadata": {
  "kernelspec": {
   "display_name": "Python 3",
   "language": "python",
   "name": "python3"
  },
  "language_info": {
   "codemirror_mode": {
    "name": "ipython",
    "version": 3
   },
   "file_extension": ".py",
   "mimetype": "text/x-python",
   "name": "python",
   "nbconvert_exporter": "python",
   "pygments_lexer": "ipython3",
   "version": "3.8.3"
  }
 },
 "nbformat": 4,
 "nbformat_minor": 4
}
