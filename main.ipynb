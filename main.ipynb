{
 "cells": [
  {
   "cell_type": "markdown",
   "metadata": {
    "id": "13IjaRwElopp"
   },
   "source": [
    "---\n",
    "# Homework 2 - eCommerce analytics\n",
    "---"
   ]
  },
  {
   "cell_type": "markdown",
   "metadata": {
    "id": "zQXKIvXKlopr"
   },
   "source": [
    "# Notes before starting"
   ]
  },
  {
   "cell_type": "markdown",
   "metadata": {
    "id": "KRc7kDaClops"
   },
   "source": [
    "We dealt with a huge amount of data from the files `2019-Oct.csv` and `2019-Nov.csv`. These files have a total size equal to 13.4GB. For all the questions, we reduced the amount of RAM required by loading only the needed columns and, since some columns data allows it, we forced some data casting to data types smaller in size. Specifically, for example, we loaded the `user_id` values as `numpy.int32` instead of default `numpy.int64`, since we observed that `user_id` values are of 10<sup>8</sup> order.\n",
    "\n",
    "Moreover, we tried to handle these data applying two different strategies. The first one was executing the functions in Google Colab. According to the second one, we implemented some functions chunking the dataset, computing by chunk and then combining the results. We are aware that this implementation adds a lot of overhead, but this way we managed to run these functions on a laptop with only 8GB of RAM. In addition, we had the opportunity to learn how to work with chunks. For this sake, we decided to keep these functions inside the main script file `./scripts/our_functions`. All the questions marked with a **\\*** were solved with such functions."
   ]
  },
  {
   "cell_type": "markdown",
   "metadata": {
    "id": "rmIrdmIslopt"
   },
   "source": [
    "# Setup"
   ]
  },
  {
   "cell_type": "markdown",
   "metadata": {
    "id": "El_Mvlv4lopt"
   },
   "source": [
    "As previously mentioned, in order to keep the notebook tidy, for each question, we put the functions in the file `./scripts/our_functions.py`."
   ]
  },
  {
   "cell_type": "code",
   "execution_count": 1,
   "metadata": {
    "id": "sQ5Q3xSylopu"
   },
   "outputs": [],
   "source": [
    "import scripts.our_functions as f"
   ]
  },
  {
   "cell_type": "markdown",
   "metadata": {
    "id": "i3Zhm3Kslopy"
   },
   "source": [
    "Specifically, the libraries we used are the following:"
   ]
  },
  {
   "cell_type": "markdown",
   "metadata": {
    "id": "J8ucHbX2lopy"
   },
   "source": [
    "```python\n",
    "# for data handling and analysis\n",
    "import pandas as pd\n",
    "import numpy as np\n",
    "from matplotlib import pyplot as plt \n",
    "import datetime\n",
    "\n",
    "# utilies for computational performance evaluation and debugging\n",
    "from tqdm import tqdm\n",
    "from threading import Thread\n",
    "from queue import Queue\n",
    "import os, glob\n",
    "```"
   ]
  },
  {
   "cell_type": "markdown",
   "metadata": {
    "id": "bzaqyOdUlopz"
   },
   "source": [
    "To have an insight into the data handling, we show the routine function to load the needed data for each question (only for the questions marked with an asterisk): "
   ]
  },
  {
   "cell_type": "markdown",
   "metadata": {
    "id": "7n9bS4u0lop0"
   },
   "source": [
    "```python\n",
    "def get_needed_iterator(month_files:list, columns:list, chunksize:int=10**6, parse_dates=False):\n",
    "    global DATA_PATH, dtype\n",
    "    iterators = []\n",
    "    date_parser = pd.to_datetime if parse_dates else None\n",
    "    for month in month_files:\n",
    "        iterators.append(pd.read_csv(os.path.join(DATA_PATH, month), usecols=columns, \n",
    "                                     parse_dates=parse_dates, date_parser=date_parser, \n",
    "                                     chunksize=chunksize, dtype=dtype))\n",
    "    return iterators\n",
    "```"
   ]
  },
  {
   "cell_type": "markdown",
   "metadata": {
    "id": "XaJPjBITlop0"
   },
   "source": [
    "According to the pandas API, we split the dataset into chunks of 10<sup>6</sup> rows and we obtain an iterator. Using this iterator properly, we get all the data required for each question."
   ]
  },
  {
   "cell_type": "markdown",
   "metadata": {
    "id": "egM97M7xlop1"
   },
   "source": [
    "---\n",
    "# [RQ1]  Which is the rate of complete funnels? *"
   ]
  },
  {
   "cell_type": "markdown",
   "metadata": {
    "id": "QXDKwtevlop2"
   },
   "source": [
    "According to the question statement, a complete funnel involves three steps: 1) view, 2) cart and 3) purchase. Because an event of type *cart* implies (and corresponds to) an event of type *view*, we only select the rows related to a *cart* and *purchase* events. Then, regarding to the *purchase* event, we make a distinction between the purchases after a corresponding *cart* event and the one-click purchases, which don't correspond to a *cart* event. Besides the complete funnels, we consider incomplete funnels the route {1} (orphan views) and the route {1,2} (orphan carts).\n",
    "\n",
    "To be clear, the sets that we consider in order to compute the rate of complete funnels are:\n",
    "\n",
    "$\n",
    "U = \\{\\text{all tuples}\\}\\\\\n",
    "P = \\{\\text{purchase tuples}\\}\\\\\n",
    "C = \\{\\text{cart tuples}\\}\n",
    "$\n",
    "\n",
    "The set $P - (P \\cap C)$ contains only the one-click purchases. So, given the cardinalities\n",
    "\n",
    "$\n",
    "|U| = n_{tuples}\\\\\n",
    "|P| = n_{purchases}\\\\\n",
    "|C| = n_{carts}\\\\\n",
    "|P-(P \\cap C)| = n_{one-click}\n",
    "$\n",
    "\n",
    "we compute the rate of complete funnels without one-click purchases as\n",
    "\n",
    "$\n",
    "r_{\\%}=\\frac{n_{purchases}-n_{one-click}}{n_{tuples}-2\\dot(n_{purchases}-n_{one-click})-[n_{carts}-(n_{purchases}-n_{one-click})]-n_{one-click}} = \\frac{n_{purchases}-n_{one-click}}{n_{tuples}-n_{purchases}-n_{carts}}\n",
    "$\n",
    "\n",
    "Similarly, we compute the rate of complete funnels with one-click purchases."
   ]
  },
  {
   "cell_type": "markdown",
   "metadata": {
    "id": "xmUoAmMrlop2"
   },
   "source": [
    "We show two results, one that corresponds only to the route {1,2,3} and the other that takes into account also the route {1,3} (one-click purchases)."
   ]
  },
  {
   "cell_type": "code",
   "execution_count": 5,
   "metadata": {
    "colab": {
     "base_uri": "https://localhost:8080/"
    },
    "id": "JoT08FA7lop3",
    "outputId": "fc46c5ab-749a-43ab-8e8d-83d14b803395"
   },
   "outputs": [
    {
     "name": "stdout",
     "output_type": "stream",
     "text": [
      "There are 1659788 purchases,\n",
      "of which 556992 one_click purchases (only view-purchase couples).\n",
      "The number of carts is 3955446.\n",
      "\n",
      "\n",
      "Rate of complete funnels without one_click purchases:\t1.06%.\n",
      "\n",
      "Rate of complete funnels with one_click purchases:\t1.59%.\n"
     ]
    }
   ],
   "source": [
    "f.complete_funnels(['event_type', 'user_session', 'product_id'])"
   ]
  },
  {
   "cell_type": "markdown",
   "metadata": {
    "id": "fdAd3ppKlop6"
   },
   "source": [
    "The results show that the **1.06%** of the funnels, excluding the view-purchase ones, are complete. The interesting outcome is that the rate of complete funnels increases of about 50% if taking into account also the one-click purchases (**1.59%**). We deduce that customers often enjoy the one-click route instead of the \"traditional\" route, maybe thanks to the immediacy of the transaction. "
   ]
  },
  {
   "cell_type": "markdown",
   "metadata": {
    "id": "B7wAtFlPlop7"
   },
   "source": [
    "## What’s the operation users repeat more on average within a session? *"
   ]
  },
  {
   "cell_type": "markdown",
   "metadata": {
    "id": "1im_peqilop7"
   },
   "source": [
    "In order to get, for each session and event (*view*, *cart*, *purchase*), the average number of operations performed by users, we need to count the tuples of each event and the number of distinct sessions; then, the rate $\\frac{n_{event}}{n_{sessions}}$ is the requested outcome."
   ]
  },
  {
   "cell_type": "code",
   "execution_count": 6,
   "metadata": {
    "colab": {
     "base_uri": "https://localhost:8080/",
     "height": 564
    },
    "id": "cgft8aKXlop8",
    "outputId": "00475b88-9735-4486-8f14-4404772eda9e"
   },
   "outputs": [
    {
     "name": "stdout",
     "output_type": "stream",
     "text": [
      "4.53 views, 0.17 carts, 0.07 purchases. 23,016,651 sessions.\n",
      "\n",
      "\n"
     ]
    },
    {
     "data": {
      "image/png": "[encoded data removed]",
      "text/plain": [
       "<Figure size 576x576 with 1 Axes>"
      ]
     },
     "metadata": {
      "needs_background": "light",
      "tags": []
     },
     "output_type": "display_data"
    }
   ],
   "source": [
    "f.average_number_operations(['user_session', 'event_type'])"
   ]
  },
  {
   "cell_type": "markdown",
   "metadata": {
    "id": "abCr7D_2lop_"
   },
   "source": [
    "Observing the plot, it is evident that the number of *views* is far way greater than the number of *carts* and *purchases*; specifically, it is more than 26 and 64 times greater, respectively. This outcome, as expected, confirms the result discussed in the previous sub-point: customers view a lot of products, maybe many times each, before deciding to add them to the cart and making a purchase."
   ]
  },
  {
   "cell_type": "markdown",
   "metadata": {
    "id": "dS6lW8RMloqA"
   },
   "source": [
    "## How many times, on average, a user views a product before adding it to the cart? *"
   ]
  },
  {
   "cell_type": "markdown",
   "metadata": {
    "id": "KGu-Qm-PloqB"
   },
   "source": [
    "To solve this task, the needed attributes are `user_id`, `product_id`, `event_type` and `event_time`. Selecting the sets related to *cart* and *view* events and joining them on `user_id` and `product_id` give the desired result. It is relevant to remark that the attribute `event_time` is crucial to filter the tuples of the joint set according to the condition `event_time_view < event_time_cart` for each `(user_id, product_id)` couple. "
   ]
  },
  {
   "cell_type": "code",
   "execution_count": 3,
   "metadata": {
    "colab": {
     "base_uri": "https://localhost:8080/",
     "height": 306
    },
    "id": "L0_Uki8lloqB",
    "outputId": "b825bb5e-9965-4440-8abd-9e0aa9488b6c"
   },
   "outputs": [
    {
     "name": "stdout",
     "output_type": "stream",
     "text": [
      "On average a user views a product 10.05 times before adding it to the cart.\n"
     ]
    }
   ],
   "source": [
    "f.average_views_before_cart(['user_id', 'product_id', 'event_type', 'event_time'])"
   ]
  },
  {
   "cell_type": "markdown",
   "metadata": {
    "id": "rkdaSu9ZloqF"
   },
   "source": [
    "As expected by analyzing the plot above, a user views a product **10 times** before adding it to the cart. This is the reason why the *view* event overcomes the others by far."
   ]
  },
  {
   "cell_type": "markdown",
   "metadata": {
    "id": "fIw9LNs9loqF"
   },
   "source": [
    "## What’s the probability that products added once to the cart are effectively bought? *"
   ]
  },
  {
   "cell_type": "markdown",
   "metadata": {
    "id": "yJDDTnnXloqG"
   },
   "source": [
    "Let $C$ and $P$ be the events such that\n",
    "\n",
    "$\n",
    "C = \\{\\text{a product is added to the cart}\\}\\\\\n",
    "P = \\{\\text{a product is bought}\\}.\n",
    "$\n",
    "\n",
    "In this task, we are asked to find the probability that products added once to the cart are effectively bought, that is the conditional probability $\\mathbb{P}(P|C)$. According to the definition of conditional probability, we have\n",
    "\n",
    "$\n",
    "\\mathbb{P}(P|C)=\\frac{\\mathbb{P}(C\\cap P)}{\\mathbb{P}(C)}.\n",
    "$\n",
    "\n",
    "The probability of the event C is\n",
    "\n",
    "$\n",
    "\\mathbb{P}(C)=\\frac{\\text{# of cart tuples}}{\\text{# of tuples}}=\\frac{n_{cart}}{n_{tuples}}.\n",
    "$\n",
    "\n",
    "Similarly, the probability of the event $C\\cap P$ is\n",
    "\n",
    "$\n",
    "\\mathbb{P}(C\\cap P)=\\frac{\\text{# of cart tuples corresponding to purchase tuples}}{\\text{# of tuples}}=\\frac{n_{cart\\_purchase}}{n_{tuples}}.\n",
    "$\n",
    "\n",
    "Then, the requested probability is $\\mathbb{P}(P|C)=\\frac{n_{cart\\_purchase}}{n_{tuples}}\\times\\frac{n_{tuples}}{n_{cart}}=\\frac{n_{cart\\_purchase}}{n_{cart}}$."
   ]
  },
  {
   "cell_type": "code",
   "execution_count": 4,
   "metadata": {
    "colab": {
     "base_uri": "https://localhost:8080/"
    },
    "id": "E9eiH708loqG",
    "outputId": "478d1a4c-89ae-4cc8-8cb7-b777a34cb3a0"
   },
   "outputs": [
    {
     "name": "stdout",
     "output_type": "stream",
     "text": [
      "The probability that products added once to the cart are effectively bought is 0.28%.\n"
     ]
    }
   ],
   "source": [
    "f.probability_purchase(['user_session', 'product_id', 'event_type'])"
   ]
  },
  {
   "cell_type": "markdown",
   "metadata": {
    "id": "LdWfktcWloqJ"
   },
   "source": [
    "As the result points out, more than **1 addition to the cart in 3** is successful. Once again, this result visually finds confirmation in the plot above."
   ]
  },
  {
   "cell_type": "markdown",
   "metadata": {
    "id": "2LbrnXzIloqK"
   },
   "source": [
    "## What’s the average time an item stays in the cart before being removed? *"
   ]
  },
  {
   "cell_type": "markdown",
   "metadata": {
    "id": "VUwgZacxloqL"
   },
   "source": [
    "For this task, we came up with an estimation of the average time an item stays in the cart before being removed. Indeed, despite the [description of the data](https://www.kaggle.com/mkechinov/ecommerce-behavior-data-from-multi-category-store?select=2019-Oct.csv) and according to [this punctualization](https://www.kaggle.com/mkechinov/ecommerce-behavior-data-from-multi-category-store/discussion/132470#757896), there is no *removefromcart* event. Then, observing the behaviour of some famous e-commerce stores, we assumed that the cart state lives within a session; this means that when the session expires, the cart is deleted. In other words, the cart state is session-bound. \n",
    "\n",
    "To approximate the session expiration, we pick the last operation within each session, that is the operation with the maximum timestamp within the session. Performing the timestamp difference between a cart event and the corresponding last session operation, we are able to compute the desired average time."
   ]
  },
  {
   "cell_type": "code",
   "execution_count": 4,
   "metadata": {
    "colab": {
     "base_uri": "https://localhost:8080/"
    },
    "id": "yHh8HRdAloqL",
    "outputId": "3c99fbc3-6a29-42e6-a94c-e22b408e3155"
   },
   "outputs": [
    {
     "name": "stdout",
     "output_type": "stream",
     "text": [
      "On average, an item stays in the cart 454.93 minutes before being removed.\n"
     ]
    }
   ],
   "source": [
    "f.average_time_cart(['event_type', 'user_session', 'product_id', 'event_time'])"
   ]
  },
  {
   "cell_type": "markdown",
   "metadata": {
    "id": "scm4N3lzqH4S"
   },
   "source": [
    "On average, an item stays in the cart about **8 minutes** (454.93 seconds) before being removed."
   ]
  },
  {
   "cell_type": "markdown",
   "metadata": {
    "id": "R8IauH7XloqO"
   },
   "source": [
    "## How much time passes on average between the first view time and a purchase/addition to cart? *"
   ]
  },
  {
   "cell_type": "markdown",
   "metadata": {
    "id": "tRiftEAAloqO"
   },
   "source": [
    "Because the question is pretty generic, we decided to analyze two different cases in order to highlight some characteristics of the customers.\n",
    "\n",
    "The first case we dealt with is considering the average time between the very first view of a user and her very first addition to the cart/purchase. In other words, we chose to measure how much time a user takes before generating a profit."
   ]
  },
  {
   "cell_type": "code",
   "execution_count": 5,
   "metadata": {
    "id": "e1uHnlUvloqP",
    "outputId": "80417ecb-76be-4340-8cdb-2e73dcf8e2d7"
   },
   "outputs": [
    {
     "name": "stdout",
     "output_type": "stream",
     "text": [
      "The average time between the first view time and a purchase/addition to cart is 257.77 hours.\n",
      "The standard deviation is 357.54 hours.\n"
     ]
    }
   ],
   "source": [
    "f.average_time_after_first_view_1(['event_type', 'event_time', 'user_id'])"
   ]
  },
  {
   "cell_type": "markdown",
   "metadata": {
    "id": "PyjjMvnCloqS"
   },
   "source": [
    "To be more aware of the amount of time, we convert the result into days:"
   ]
  },
  {
   "cell_type": "code",
   "execution_count": 6,
   "metadata": {
    "id": "gEh7yfy8loqS",
    "outputId": "0e8b9bbb-cd06-418a-ae99-405249486a5b"
   },
   "outputs": [
    {
     "name": "stdout",
     "output_type": "stream",
     "text": [
      "The average time between the first view time and a purchase/addition to cart is 11 days.\n",
      "The standard deviation is 15 days.\n"
     ]
    }
   ],
   "source": [
    "print(f'The average time between the first view time and a purchase/addition to cart is {round(257.77 / 24)} days.')\n",
    "print(f'The standard deviation is {round(357.54 / 24)} days.')"
   ]
  },
  {
   "cell_type": "markdown",
   "metadata": {
    "id": "Otm4LXBUloqV"
   },
   "source": [
    "On average, a user generates a profit **11 days** after she learnt about our business, which is pretty much! The standard deviation of **15 days** points out that there are some outliers in the delta-time distribution: probably, there are some users who view and add/buy a product immediately and others that add/buy a product after many weeks."
   ]
  },
  {
   "cell_type": "markdown",
   "metadata": {
    "id": "2ay3boD4loqW"
   },
   "source": [
    "In the second case we analyzed, we consider the average time between the very first view of a specific product by a user and its corresponding addition to the cart/purchase. To be clear, we estimate how much time a user takes before deciding to buy a specific product she previuosly saw. We filter the tuples by the attribute `user_id` instead of `user_session` because a user may view a product for the first time during one session and add it to the cart/purchase it during another session. "
   ]
  },
  {
   "cell_type": "code",
   "execution_count": 7,
   "metadata": {
    "colab": {
     "base_uri": "https://localhost:8080/"
    },
    "id": "51qgoRiBloqW",
    "outputId": "f196b726-ff06-4695-bc80-9ca141350cb2",
    "scrolled": false
   },
   "outputs": [
    {
     "name": "stdout",
     "output_type": "stream",
     "text": [
      "The average time between the first view time and a purchase/addition to cart is 2858.08 minutes.\n"
     ]
    }
   ],
   "source": [
    "f.average_time_after_first_view_2(['event_type', 'event_time', 'user_id', 'product_id'])"
   ]
  },
  {
   "cell_type": "markdown",
   "metadata": {
    "id": "RyGePQ3MDu7n"
   },
   "source": [
    "Even in this case, we convert the result into a more meaningful time unit:"
   ]
  },
  {
   "cell_type": "code",
   "execution_count": 8,
   "metadata": {
    "colab": {
     "base_uri": "https://localhost:8080/"
    },
    "id": "pMynBduED8Tj",
    "outputId": "ff6be7f3-1f6c-46b3-e2f2-7c804d5a548a"
   },
   "outputs": [
    {
     "name": "stdout",
     "output_type": "stream",
     "text": [
      "The average time between the first view time and a purchase/addition to cart is 48 hours.\n"
     ]
    }
   ],
   "source": [
    "print(f'The average time between the first view time and a purchase/addition to cart is {round(2858.08 / 60)} hours.')"
   ]
  },
  {
   "cell_type": "markdown",
   "metadata": {
    "id": "zcL9sRxMEARH"
   },
   "source": [
    "On average, a user decides to buy a specific product after about **48** hours."
   ]
  },
  {
   "cell_type": "markdown",
   "metadata": {
    "id": "BUON7AGvloqa"
   },
   "source": [
    "# [RQ2]  What are the categories of the most trending products overall?"
   ]
  },
  {
   "cell_type": "markdown",
   "metadata": {
    "id": "PDC70qUyloqa"
   },
   "source": [
    "We produced a plot showing the number of sold products per category: obtaining a subset of only the purchases, we grouped by category code, and counted the number of sold product plotting the biggest 10 values"
   ]
  },
  {
   "cell_type": "code",
   "execution_count": 3,
   "metadata": {
    "colab": {
     "base_uri": "https://localhost:8080/",
     "height": 545
    },
    "id": "nIviSGOdloqb",
    "outputId": "d49d1692-590e-4d94-fae9-f58b4bc398cd"
   },
   "outputs": [
    {
     "data": {
      "image/png": "[encoded data removed]",
      "text/plain": [
       "<Figure size 432x288 with 1 Axes>"
      ]
     },
     "metadata": {
      "needs_background": "light",
      "tags": []
     },
     "output_type": "display_data"
    },
    {
     "data": {
      "image/png": "[encoded data removed]",
      "text/plain": [
       "<Figure size 432x288 with 1 Axes>"
      ]
     },
     "metadata": {
      "needs_background": "light",
      "tags": []
     },
     "output_type": "display_data"
    }
   ],
   "source": [
    "f.num_sold_per_cat()"
   ]
  },
  {
   "cell_type": "markdown",
   "metadata": {
    "id": "VUQAPfptloqe"
   },
   "source": [
    "We then plotted the 10 most visited subcategories, obtaining a subset of only the views, grouping by category code and counting the views of each category"
   ]
  },
  {
   "cell_type": "code",
   "execution_count": null,
   "metadata": {
    "colab": {
     "base_uri": "https://localhost:8080/",
     "height": 571
    },
    "id": "8jvDV6Igloqe",
    "outputId": "1212c248-4029-4567-dcde-aaa3512f187d"
   },
   "outputs": [
    {
     "data": {
      "image/png": "[encoded data removed]",
      "text/plain": [
       "<Figure size 432x288 with 1 Axes>"
      ]
     },
     "metadata": {
      "needs_background": "light",
      "tags": []
     },
     "output_type": "display_data"
    },
    {
     "data": {
      "image/png": "[encoded data removed]",
      "text/plain": [
       "<Figure size 432x288 with 1 Axes>"
      ]
     },
     "metadata": {
      "needs_background": "light",
      "tags": []
     },
     "output_type": "display_data"
    }
   ],
   "source": [
    "f.most_v_cat()"
   ]
  },
  {
   "cell_type": "markdown",
   "metadata": {
    "id": "xHSyUYvrloqh"
   },
   "source": [
    "And eventually we produced a list showing the most sold products per category: obtaining a subset of only the purchases, we counted, for each category code, the number of sold products"
   ]
  },
  {
   "cell_type": "code",
   "execution_count": null,
   "metadata": {
    "colab": {
     "base_uri": "https://localhost:8080/"
    },
    "id": "HHoay2UYloqh",
    "outputId": "2de7789e-f8fc-4809-8e38-574095bdd681"
   },
   "outputs": [
    {
     "name": "stderr",
     "output_type": "stream",
     "text": [
      "/usr/local/lib/python3.6/dist-packages/pandas/core/generic.py:5168: SettingWithCopyWarning: \n",
      "A value is trying to be set on a copy of a slice from a DataFrame.\n",
      "Try using .loc[row_indexer,col_indexer] = value instead\n",
      "\n",
      "See the caveats in the documentation: https://pandas.pydata.org/pandas-docs/stable/user_guide/indexing.html#returning-a-view-versus-a-copy\n",
      "  self[name] = value\n"
     ]
    },
    {
     "name": "stdout",
     "output_type": "stream",
     "text": [
      "accessories\n",
      "product_id\n",
      "18300155    105\n",
      "18300021     87\n",
      "28401112     56\n",
      "18300460     51\n",
      "28400759     50\n",
      "18300141     42\n",
      "18300214     39\n",
      "52900016     38\n",
      "18300370     33\n",
      "28400912     31\n",
      "Name: event_type, dtype: int64\n",
      "apparel\n",
      "product_id\n",
      "28720716    101\n",
      "54900013    100\n",
      "54900004     97\n",
      "28718083     93\n",
      "28716978     91\n",
      "54900011     89\n",
      "28716666     85\n",
      "28719606     83\n",
      "28719635     74\n",
      "54900012     71\n",
      "Name: event_type, dtype: int64\n",
      "appliances\n",
      "product_id\n",
      "3700926    3439\n",
      "3600661    3224\n",
      "3600666    2008\n",
      "3601405    1908\n",
      "3600163    1896\n",
      "3700766    1384\n",
      "2900958    1235\n",
      "3601485    1189\n",
      "3701134    1167\n",
      "2702277    1100\n",
      "Name: event_type, dtype: int64\n",
      "auto\n",
      "product_id\n",
      "6000094    1885\n",
      "4700478     894\n",
      "6000227     849\n",
      "5701128     628\n",
      "5701166     578\n",
      "6000004     480\n",
      "6000229     467\n",
      "4700630     452\n",
      "4700589     397\n",
      "5701002     341\n",
      "Name: event_type, dtype: int64\n",
      "computers\n",
      "product_id\n",
      "1307310    2332\n",
      "1307073    1604\n",
      "1307188    1207\n",
      "1307067    1189\n",
      "1306650     924\n",
      "1307545     908\n",
      "1307366     763\n",
      "1307187     744\n",
      "1307004     696\n",
      "1307076     683\n",
      "Name: event_type, dtype: int64\n",
      "construction\n",
      "product_id\n",
      "19200005    741\n",
      "12300396    554\n",
      "4000169     537\n",
      "30000048    362\n",
      "4000170     356\n",
      "12300066    267\n",
      "12400121    256\n",
      "12300394    229\n",
      "19200010    190\n",
      "30000055    181\n",
      "Name: event_type, dtype: int64\n",
      "country_yard\n",
      "product_id\n",
      "27600080    24\n",
      "27600022    17\n",
      "30500002    10\n",
      "30500003     9\n",
      "30500001     7\n",
      "30500022     6\n",
      "27600165     5\n",
      "30500023     4\n",
      "33700006     4\n",
      "27600024     3\n",
      "Name: event_type, dtype: int64\n",
      "electronics\n",
      "product_id\n",
      "1004856    61265\n",
      "1004767    44419\n",
      "1005115    34787\n",
      "4804056    30181\n",
      "1004833    26183\n",
      "1002544    22227\n",
      "1004870    21288\n",
      "1004249    17971\n",
      "1005105    15776\n",
      "1004836    15549\n",
      "Name: event_type, dtype: int64\n",
      "furniture\n",
      "product_id\n",
      "14701435    453\n",
      "17200570    343\n",
      "17200651    256\n",
      "7100133     226\n",
      "14701260    192\n",
      "7101172     162\n",
      "14701406    159\n",
      "7900440     158\n",
      "13200019    147\n",
      "13201002    147\n",
      "Name: event_type, dtype: int64\n",
      "kids\n",
      "product_id\n",
      "7004492     435\n",
      "7002254     267\n",
      "7004508     232\n",
      "8902633     168\n",
      "7004509     164\n",
      "12100045    164\n",
      "7005751     156\n",
      "7006453     144\n",
      "9002789     141\n",
      "8900305     136\n",
      "Name: event_type, dtype: int64\n",
      "medicine\n",
      "product_id\n",
      "25800007    196\n",
      "25800005    193\n",
      "25800003     82\n",
      "25800001     39\n",
      "25800016     34\n",
      "25800002     31\n",
      "25800006     18\n",
      "25800020     15\n",
      "25800004     13\n",
      "25800014      6\n",
      "Name: event_type, dtype: int64\n",
      "sport\n",
      "product_id\n",
      "26900021    145\n",
      "12202301     99\n",
      "12201562     93\n",
      "26900065     71\n",
      "26900009     60\n",
      "26900059     57\n",
      "26900073     57\n",
      "12201563     51\n",
      "12200545     49\n",
      "12201949     48\n",
      "Name: event_type, dtype: int64\n",
      "stationery\n",
      "product_id\n",
      "53400013    26\n",
      "12900110    13\n",
      "12901271    12\n",
      "12901426    11\n",
      "12900125    10\n",
      "12900132    10\n",
      "12900142    10\n",
      "12900360    10\n",
      "12900363    10\n",
      "53400004     9\n",
      "Name: event_type, dtype: int64\n"
     ]
    }
   ],
   "source": [
    "f.most_sold_per_cat()"
   ]
  },
  {
   "cell_type": "markdown",
   "metadata": {
    "id": "pf2yOb7Qtx7E"
   },
   "source": [
    "# [RQ3] For each category, what’s the brand whose prices are higher on average?"
   ]
  },
  {
   "cell_type": "markdown",
   "metadata": {
    "id": "NdtpSzOOuGIc"
   },
   "source": [
    "As a result of the analysis, what appears to be a constant trend throughout the answers, is that the most expensive brands, and associated products as well, are by far the ones of electronics devices and electronic domestic appliances; the only exception consists of sport bycicles outpricing the others. To have a general overview of the average price by brand for each category we implemented this function, it is easy to observe the brands whose prices are higher on average."
   ]
  },
  {
   "cell_type": "code",
   "execution_count": null,
   "metadata": {
    "colab": {
     "base_uri": "https://localhost:8080/"
    },
    "id": "uNthyXXduPtl",
    "outputId": "8661ec81-9af0-450e-c33a-b75864d0467a"
   },
   "outputs": [
    {
     "name": "stdout",
     "output_type": "stream",
     "text": [
      "category_code  brand        \n",
      "sport          pinarello        2533.238525\n",
      "               nordictrack      2522.590088\n",
      "               kessler          2372.000000\n",
      "appliances     climadiff        2261.951172\n",
      "computers      dreammachines    2221.466309\n",
      "construction   helix            2199.047852\n",
      "electronics    rado             2062.926025\n",
      "furniture      senspa           1976.539551\n",
      "               trevi            1959.888672\n",
      "electronics    louiserard       1931.751465\n",
      "Name: price, dtype: float32 \n",
      "\n",
      "\n",
      "\n"
     ]
    }
   ],
   "source": [
    "f.avg_price_by_brand()"
   ]
  },
  {
   "cell_type": "markdown",
   "metadata": {
    "id": "_aQsr0DoIIDf"
   },
   "source": [
    "## Write a function that asks the user a category in input and returns a plot indicating the average price of the products sold by the brand"
   ]
  },
  {
   "cell_type": "markdown",
   "metadata": {
    "id": "Ivzl5j22AKLG"
   },
   "source": [
    "The function we implemented is quite similar to the one called above, except for the fact that the user is asked to indicate a precise category.\n",
    "\n"
   ]
  },
  {
   "cell_type": "markdown",
   "metadata": {
    "id": "YRdWbYmhIeDm"
   },
   "source": [
    "```python\n",
    "def avg_price_by_brand_cat():\n",
    "    global DATA_PATH\n",
    "    cols = ['category_code', 'brand', 'price']\n",
    "    ds10 = pd.read_csv(DATA_PATH + \"2019-Oct.csv\", dtype={'price':np.float32}, usecols=cols)\n",
    "    ds11 = pd.read_csv(DATA_PATH + \"2019-Nov.csv\", dtype={'price':np.float32}, usecols=cols)\n",
    "    dstot = pd.concat([ds10, ds11]).dropna()\n",
    "\n",
    "    extract_cat = lambda x: x.split('.')[0]\n",
    "    dstot.category_code = dstot.category_code.map(extract_cat)\n",
    "\n",
    "    print(\"Enter the category_code whose average price by brand you want to know\")\n",
    "    cat = input()\n",
    "    dstot_grouped1 = dstot[dstot[\"category_code\"]==cat].groupby(\"brand\")[\"price\"].mean()\n",
    "    dstot_grouped1.plot.bar(figsize=(50, 20))\n",
    "    plt.show()\n",
    "    \n",
    "    return\n",
    "```"
   ]
  },
  {
   "cell_type": "markdown",
   "metadata": {
    "id": "_mtxUCczATKz"
   },
   "source": [
    "If we consider for example the category_code \"electronics\", the brand Rado turns out to have higher prices compared to the others."
   ]
  },
  {
   "cell_type": "code",
   "execution_count": null,
   "metadata": {
    "colab": {
     "base_uri": "https://localhost:8080/",
     "height": 715
    },
    "id": "b4xSljJsIdIH",
    "outputId": "c18cb9e6-7f26-43d6-fb85-723de38995c5"
   },
   "outputs": [
    {
     "name": "stdout",
     "output_type": "stream",
     "text": [
      "Enter the category_code whose average price by brand you want to know\n",
      "electronics\n"
     ]
    },
    {
     "data": {
      "image/png": "[encoded data removed]",
      "text/plain": [
       "<Figure size 1296x720 with 1 Axes>"
      ]
     },
     "metadata": {
      "needs_background": "light",
      "tags": []
     },
     "output_type": "display_data"
    }
   ],
   "source": [
    "f.avg_price_by_brand_cat()"
   ]
  },
  {
   "cell_type": "markdown",
   "metadata": {
    "id": "-oXhCaR9I41Z"
   },
   "source": [
    "## Find, for each category, the brand with the highest average price. Return all the results in ascending order by price"
   ]
  },
  {
   "cell_type": "markdown",
   "metadata": {
    "id": "GNdEiumyAbV2"
   },
   "source": [
    "Apart from some modifications, the code is resemblant to the ones above. The considerations made at the beginning of Question 3 refer particularly to this sub-question."
   ]
  },
  {
   "cell_type": "code",
   "execution_count": 3,
   "metadata": {
    "colab": {
     "base_uri": "https://localhost:8080/"
    },
    "id": "I-Mhu8QlI-pL",
    "outputId": "7379b757-0894-441d-c87f-62f2e0bb21d2"
   },
   "outputs": [
    {
     "name": "stdout",
     "output_type": "stream",
     "text": [
      "     category_code          brand        price\n",
      "2327      medicine          omron    97.573456\n",
      "2480    stationery             hp   154.561722\n",
      "110    accessories        weekend   550.849976\n",
      "1260  country_yard         viking   712.080383\n",
      "788           auto         remeza   863.195679\n",
      "266        apparel    sergiorossi  1030.058350\n",
      "505     appliances           jura  1686.643555\n",
      "1569   electronics           rado  1758.832275\n",
      "2063          kids         hartan  1801.819946\n",
      "1896     furniture         senspa  1930.541992\n",
      "1096  construction          helix  2033.526245\n",
      "867      computers  dreammachines  2187.494873\n",
      "2422         sport    nordictrack  2522.590088\n"
     ]
    }
   ],
   "source": [
    "f.highest_avg_price_brand()"
   ]
  },
  {
   "cell_type": "markdown",
   "metadata": {
    "id": "Xhoe0wYmloqk"
   },
   "source": [
    "# [RQ4] How much does each brand earn per month? *"
   ]
  },
  {
   "cell_type": "markdown",
   "metadata": {
    "id": "Nah5X-zXloql"
   },
   "source": [
    "As we were asked, we wrote the following function to get the profit per month given the brand name:"
   ]
  },
  {
   "cell_type": "markdown",
   "metadata": {
    "id": "_jsUiedHloql"
   },
   "source": [
    "```python\n",
    "def get_profit_per_month(brand_name, dataset_list:list=None):\n",
    "    global month_files\n",
    "    if dataset_list == None:\n",
    "        dataset_list = get_purchases(['brand', 'product_id', 'price', 'event_type'])\n",
    "    profit_per_month = {}\n",
    "    for i in range(len(month_files)):\n",
    "        profit = 0\n",
    "        month_name = month_files[i][5:8]\n",
    "        brand_items = dataset_list[i][dataset_list[i].brand == brand_name]\n",
    "        if not brand_items.empty:\n",
    "            profit = brand_items[(brand_items.price.notna()) & \n",
    "                                 (brand_items.price.notnull())].price.agg('sum')\n",
    "        profit_per_month[month_name] = profit\n",
    "    return profit_per_month\n",
    "```"
   ]
  },
  {
   "cell_type": "markdown",
   "metadata": {
    "id": "IrYbuKaSloqm"
   },
   "source": [
    "The profit of a brand is equal to the sum of the purchases of the brand products. So, we get the *purchase* tuples and we filter on the brand name. This way, the function returns a dictionary containing (month->profit) couples. "
   ]
  },
  {
   "cell_type": "markdown",
   "metadata": {
    "id": "YahRSycvloqm"
   },
   "source": [
    "For example, the profit of the brand Samsung is:"
   ]
  },
  {
   "cell_type": "code",
   "execution_count": null,
   "metadata": {
    "id": "jwxF2wexloqn",
    "outputId": "8cc2d616-4eaa-4aa4-b0f4-47b577d495cb"
   },
   "outputs": [
    {
     "name": "stdout",
     "output_type": "stream",
     "text": [
      "Samsung earned 46,407,524.00$ in October and 54,869,880.00$ in November.\n"
     ]
    }
   ],
   "source": [
    "profit = f.get_profit_per_month('samsung')\n",
    "print(f'Samsung earned {profit[\"Oct\"]:,.2f}$ in October and {profit[\"Nov\"]:,.2f}$ in November.')"
   ]
  },
  {
   "cell_type": "markdown",
   "metadata": {
    "id": "g_hUzFV0loqp"
   },
   "source": [
    "## Is the average price of products of different brands significantly different? *"
   ]
  },
  {
   "cell_type": "markdown",
   "metadata": {
    "id": "TlE6TwcFloqq"
   },
   "source": [
    "To answer to this question, we first compute the mean of the price of the distinct products for each brand; then, we calculate the standard deviation of the means. Indeed, the standard deviation allows us to understand how much the average price of each brand differ from the mean."
   ]
  },
  {
   "cell_type": "code",
   "execution_count": null,
   "metadata": {
    "id": "m_JpRRUNloqq",
    "outputId": "222da51e-cf79-4130-bef3-e4caaa07208e"
   },
   "outputs": [
    {
     "name": "stdout",
     "output_type": "stream",
     "text": [
      "The mean of the average price of the products for each brand is 171.71$,\n",
      "with a standard deviation of 267.11$.\n"
     ]
    }
   ],
   "source": [
    "brand_means = f.price_std_dev(['brand', 'product_id', 'price'])"
   ]
  },
  {
   "cell_type": "markdown",
   "metadata": {
    "id": "6-e_BuOPloqt"
   },
   "source": [
    "Comparing the mean we obtained with the related standard deviation, we can deduce that the variation inside the average price distribution is pretty relevant. To prove this, we can take the maximum and the minimum average price:"
   ]
  },
  {
   "cell_type": "code",
   "execution_count": null,
   "metadata": {
    "id": "c9xZuYiLloqu",
    "outputId": "101e72bd-c20f-4569-faa6-fb4a52f77885"
   },
   "outputs": [
    {
     "name": "stdout",
     "output_type": "stream",
     "text": [
      "The minimum average price is:\t0.97$.\n",
      "The maximum average price is:\t2,522.59$.\n"
     ]
    }
   ],
   "source": [
    "print(f'The minimum average price is:\\t{brand_means.min():,.2f}$.\\nThe maximum average price is:\\t{brand_means.max():,.2f}$.')"
   ]
  },
  {
   "cell_type": "markdown",
   "metadata": {
    "id": "TsqxvMV8loqx"
   },
   "source": [
    "As shown, there is a huge difference between the maximum and the minimum average price."
   ]
  },
  {
   "cell_type": "markdown",
   "metadata": {
    "id": "GfWOIzlNloqx"
   },
   "source": [
    "## Find the top 3 brands that have suffered the biggest losses in earnings between one month and the next *"
   ]
  },
  {
   "cell_type": "markdown",
   "metadata": {
    "id": "h8cpvGi-loqy"
   },
   "source": [
    "We assumed as \"biggest losses\" the percentage losses between one month and the next. We compute the loss as:\n",
    "\n",
    "$\n",
    "l_{\\%} = \\frac{profit_{nov}-profit_{oct}}{profit_{oct}+1}\\times 100\n",
    "$\n",
    "\n",
    "We add 1 to $profit_{oct}$ to avoid zero divisions. This implies that, when $profit_{nov}$ is 0, the loss is *almost* 100%, but not exactly 0. We assume that this approximation is negligible."
   ]
  },
  {
   "cell_type": "code",
   "execution_count": null,
   "metadata": {
    "id": "EQdcNvaYloqy",
    "outputId": "fda6a28f-225b-494e-c487-053de1cb2ae8"
   },
   "outputs": [
    {
     "name": "stdout",
     "output_type": "stream",
     "text": [
      "The brand \"eltreco\" lost 99.99% between Oct and Nov.\n",
      "The brand \"kingsong\" lost 99.98% between Oct and Nov.\n",
      "The brand \"erdenet\" lost 99.98% between Oct and Nov.\n"
     ]
    }
   ],
   "source": [
    "f.top_n_two_months_losses(['brand', 'product_id', 'price', 'event_type'], 'Oct', 'Nov')"
   ]
  },
  {
   "cell_type": "markdown",
   "metadata": {
    "id": "famXbQBEloq1"
   },
   "source": [
    "As expected, the top 3 brands that suffered the biggest losses between October and November are minor brands, with small business. Their losses suggest that these 3 brands didn't earn anything (or almost anything) during November. Nevertheless, they may not be those which had the greatest *absolute losses*. To verify this out, we slightly modified the previous function.  "
   ]
  },
  {
   "cell_type": "code",
   "execution_count": null,
   "metadata": {
    "id": "12H4Zepbloq1",
    "outputId": "8f5538ce-a461-4264-e568-b2d415800af0"
   },
   "outputs": [
    {
     "name": "stdout",
     "output_type": "stream",
     "text": [
      "The brand \"acer\" lost 229,413.00$ between Oct and Nov.\n",
      "The brand \"peda\" lost 171,063.44$ between Oct and Nov.\n",
      "The brand \"omabelle\" lost 145,833.72$ between Oct and Nov.\n"
     ]
    }
   ],
   "source": [
    "f.top_n_two_months_losses_abs(['brand', 'product_id', 'price', 'event_type'], 'Oct', 'Nov')"
   ]
  },
  {
   "cell_type": "markdown",
   "metadata": {
    "id": "su5r3Jcfloq5"
   },
   "source": [
    "Indeed, the list of the top 3 brand is now completely different."
   ]
  },
  {
   "cell_type": "markdown",
   "metadata": {
    "id": "Mu3uQMzSloq5"
   },
   "source": [
    "---\n",
    "# [RQ5]  In what part of the day is your store most visited?"
   ]
  },
  {
   "cell_type": "markdown",
   "metadata": {
    "id": "nfk32XFiloq6"
   },
   "source": [
    "We created a heatmap plot that, for each day of the week, shows the hourly average of visitors the store has"
   ]
  },
  {
   "cell_type": "code",
   "execution_count": 4,
   "metadata": {
    "colab": {
     "base_uri": "https://localhost:8080/",
     "height": 322
    },
    "id": "kZ9pLlYJMvfQ",
    "outputId": "5914bfd8-9934-427c-afb8-14e39918c830"
   },
   "outputs": [
    {
     "data": {
      "image/png": "[encoded data removed]",
      "text/plain": [
       "<Figure size 432x288 with 4 Axes>"
      ]
     },
     "metadata": {
      "tags": []
     },
     "output_type": "display_data"
    }
   ],
   "source": [
    "f.havg_visit()"
   ]
  },
  {
   "cell_type": "markdown",
   "metadata": {
    "id": "ZlVXwQYiJ8Ar"
   },
   "source": [
    "# [RQ6] What's the conversion rate of your online store?\n"
   ]
  },
  {
   "cell_type": "markdown",
   "metadata": {
    "id": "WnW_HeQDKJDN"
   },
   "source": [
    "As online store we considered as usual October and November datasets; for each month we took into account the number of purchases and the number of products only viewed, since the conversion rate is defined as the ratio between these two numbers."
   ]
  },
  {
   "cell_type": "code",
   "execution_count": null,
   "metadata": {
    "colab": {
     "base_uri": "https://localhost:8080/"
    },
    "id": "8u2BpNMHKNrB",
    "outputId": "c218adc0-478d-4e11-f4e2-bb3278d9a9b3"
   },
   "outputs": [
    {
     "name": "stdout",
     "output_type": "stream",
     "text": [
      "Conversion rate of online store (Oct. and Nov.) : 0.01590817944828352 \n",
      "\n",
      "\n"
     ]
    }
   ],
   "source": [
    "f.conv_rate_store()"
   ]
  },
  {
   "cell_type": "markdown",
   "metadata": {
    "id": "Ym1GGQZKKbz_"
   },
   "source": [
    "## Plot the number of purchases of each category"
   ]
  },
  {
   "cell_type": "markdown",
   "metadata": {
    "id": "bkVEJxEIAsY7"
   },
   "source": [
    "The plot shows once again the trend seen in Question 3 where the most preferred products are found in categories such as electronic devices and appliances."
   ]
  },
  {
   "cell_type": "code",
   "execution_count": 4,
   "metadata": {
    "colab": {
     "base_uri": "https://localhost:8080/",
     "height": 678
    },
    "id": "ZjPh-nojMrUn",
    "outputId": "a20f21ba-fd6b-41a4-e06c-d1770ef66906"
   },
   "outputs": [
    {
     "data": {
      "image/png": "[encoded data removed]",
      "text/plain": [
       "<Figure size 1296x720 with 1 Axes>"
      ]
     },
     "metadata": {
      "needs_background": "light",
      "tags": []
     },
     "output_type": "display_data"
    }
   ],
   "source": [
    "f.purchases_cat()"
   ]
  },
  {
   "cell_type": "markdown",
   "metadata": {
    "id": "2UdpwHGCA8vA"
   },
   "source": [
    "## Show the conversion rate of each category in decreasing order"
   ]
  },
  {
   "cell_type": "code",
   "execution_count": 5,
   "metadata": {
    "colab": {
     "base_uri": "https://localhost:8080/"
    },
    "id": "-X4_Y4zrA7ld",
    "outputId": "da9c1be8-bf53-4dc1-c1ae-00f2d9b0e0ad"
   },
   "outputs": [
    {
     "name": "stdout",
     "output_type": "stream",
     "text": [
      "category_code\n",
      "electronics     0.024757\n",
      "medicine        0.018827\n",
      "stationery      0.016819\n",
      "appliances      0.013555\n",
      "computers       0.009897\n",
      "auto            0.009890\n",
      "construction    0.009376\n",
      "kids            0.009015\n",
      "sport           0.006565\n",
      "accessories     0.006068\n",
      "furniture       0.006022\n",
      "apparel         0.004962\n",
      "country_yard    0.004223\n",
      "dtype: float64\n"
     ]
    }
   ],
   "source": [
    "f.cv_rate_cat()"
   ]
  },
  {
   "cell_type": "markdown",
   "metadata": {
    "id": "KErmxNNKloq6"
   },
   "source": [
    "# [RQ7] Prove that the Pareto principle applies to your store *"
   ]
  },
  {
   "cell_type": "markdown",
   "metadata": {
    "id": "VI64fn0hloq7"
   },
   "source": [
    "According to the Pareto principle, around 80% of the business of the e-commerce platform comes from about 20% of the customers. The keypoint in this task is state a definition of the \"platform business\". We gave two definitions of it:\n",
    "\n",
    "1. the total profit coming from the purchases.\n",
    "2. the number of operations performed within the platform.\n",
    "\n",
    "While the first case is self-explanatory, the second case needs a little explanation. We considered that the business of an e-commerce platform, that is its profit, may not come only from the purchases, but also from the activities within it; actually, even *view* events may generate some profit thanks to the ads that may be present inside the e-commerce web pages or thanks to the visibility of the products, for which each brand may pay a fee."
   ]
  },
  {
   "cell_type": "markdown",
   "metadata": {
    "id": "45kZ6DTqloq8"
   },
   "source": [
    "According to the previous introduction, in the first case we consider the 20% of the users that have spent the most in the e-commerce platform and we compute the rate between the profit coming from them and the total profit."
   ]
  },
  {
   "cell_type": "code",
   "execution_count": null,
   "metadata": {
    "id": "KGQ4pRRcloq8",
    "outputId": "e86a08f8-e508-4900-e1b5-7b13783a6072"
   },
   "outputs": [
    {
     "name": "stdout",
     "output_type": "stream",
     "text": [
      "The 20% of the users is responsible of the 72.0% of the business.\n"
     ]
    }
   ],
   "source": [
    "f.prove_pareto(['event_type', 'user_id', 'price'])"
   ]
  },
  {
   "cell_type": "markdown",
   "metadata": {
    "id": "r5tdRsvIloq_"
   },
   "source": [
    "In the second case, we just count how many operations each user performed, sorting them in descent order. Then, we compute the rate between the amount of operations performed by the 20% of the users and the total number of operations performed within the system. "
   ]
  },
  {
   "cell_type": "code",
   "execution_count": null,
   "metadata": {
    "id": "r9u7Vjd1loq_",
    "outputId": "d3284d04-7e8f-4d2c-9fe1-7da65477082e"
   },
   "outputs": [
    {
     "name": "stdout",
     "output_type": "stream",
     "text": [
      "The 20% of the users is responsible of the 77.0% of the business.\n"
     ]
    }
   ],
   "source": [
    "f.prove_pareto_ops(['user_id'])"
   ]
  },
  {
   "cell_type": "markdown",
   "metadata": {
    "id": "L3Cvl4-4lorC"
   },
   "source": [
    "In both cases, the Pareto principle applies to our store."
   ]
  }
 ],
 "metadata": {
  "colab": {
   "collapsed_sections": [
    "g_hUzFV0loqp",
    "GfWOIzlNloqx",
    "KErmxNNKloq6"
   ],
   "name": "main.ipynb",
   "provenance": [],
   "toc_visible": true
  },
  "kernelspec": {
   "display_name": "Python 3",
   "language": "python",
   "name": "python3"
  },
  "language_info": {
   "codemirror_mode": {
    "name": "ipython",
    "version": 3
   },
   "file_extension": ".py",
   "mimetype": "text/x-python",
   "name": "python",
   "nbconvert_exporter": "python",
   "pygments_lexer": "ipython3",
   "version": "3.8.3"
  }
 },
 "nbformat": 4,
 "nbformat_minor": 1
}
